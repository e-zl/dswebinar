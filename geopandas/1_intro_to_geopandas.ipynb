{
  "cells": [
    {
      "attachments": {},
      "cell_type": "markdown",
      "metadata": {
        "id": "E0Mja-txmbEl"
      },
      "source": [
        "# Introduction to GeoPandas\n",
        "\n",
        "[Jian Tao](https://coehpc.engr.tamu.edu/people/jian-tao/), and [Enrique Z. Losoya](https://orcid.org/0000-0001-7763-3349), Texas A&M University. \n",
        "\n",
        "Updated: January 3, 2023.\n",
        "\n",
        "Converted from \n",
        "[GeoHackWeek 2019](https://geohackweek.github.io) -- [vector tutorial](https://geohackweek.github.io/vector/)   \n",
        "[Emilio Mayorga, University of Washington](https://github.com/emiliom/). 2019-9-9"
      ]
    },
    {
      "cell_type": "markdown",
      "metadata": {
        "id": "J04-hdHCmbEo"
      },
      "source": [
        "## 1. Introduction"
      ]
    },
    {
      "cell_type": "markdown",
      "metadata": {
        "id": "4cT6YC6-mbEo"
      },
      "source": [
        "[GeoPandas](http://geopandas.org) adds a spatial geometry data type to `Pandas` and enables spatial operations on these types, using [shapely](http://toblerity.org/shapely/). GeoPandas leverages Pandas together with several core open source geospatial packages and practices to provide a uniquely simple and convenient framework for handling geospatial feature data, operating on both geometries and attributes jointly, and as with Pandas, largely eliminating the need to iterate over features (rows). Also as with Pandas, it adds a very convenient and fine-tuned plotting method, and read/write methods that handle multiple geospatial file and \"serialization\" formats."
      ]
    },
    {
      "cell_type": "code",
      "execution_count": null,
      "metadata": {
        "colab": {
          "base_uri": "https://localhost:8080/"
        },
        "id": "md_Hpt65oPiU",
        "outputId": "0e6e1210-e91b-407a-ff5e-9df8997f5188"
      },
      "outputs": [],
      "source": [
        "!pip install geopandas"
      ]
    },
    {
      "cell_type": "markdown",
      "metadata": {
        "id": "kdISXbmhmbEp"
      },
      "source": [
        "## 2. Import packages, and set data file path\n",
        "We'll use these throughout the rest of the tutorial."
      ]
    },
    {
      "cell_type": "code",
      "execution_count": null,
      "metadata": {
        "id": "HOu46OKQmbEp"
      },
      "outputs": [],
      "source": [
        "from pathlib import Path\n",
        "\n",
        "import matplotlib as mpl\n",
        "import matplotlib.pyplot as plt\n",
        "%matplotlib inline\n",
        "\n",
        "from shapely.geometry import Point\n",
        "import pandas as pd\n",
        "import geopandas as gpd\n",
        "from geopandas import GeoSeries, GeoDataFrame"
      ]
    },
    {
      "cell_type": "code",
      "execution_count": null,
      "metadata": {
        "colab": {
          "base_uri": "https://localhost:8080/"
        },
        "id": "dByJLJ7dmbEq",
        "outputId": "6e4e707d-515e-432d-c57f-2e57a3895f77"
      },
      "outputs": [],
      "source": [
        "mpl.__version__, pd.__version__, gpd.__version__"
      ]
    },
    {
      "cell_type": "code",
      "execution_count": null,
      "metadata": {
        "id": "tPG1QeccmbEq"
      },
      "outputs": [],
      "source": [
        "data_pth = Path(\"../data\")"
      ]
    },
    {
      "cell_type": "markdown",
      "metadata": {
        "id": "PcM0YDjMmbEr"
      },
      "source": [
        "## 3. GeoSeries: The geometry building block"
      ]
    },
    {
      "cell_type": "markdown",
      "metadata": {
        "id": "N5jzW4pDmbEr"
      },
      "source": [
        "Like a Pandas `Series`, a `GeoSeries` is the building block for the more broadly useful and powerful `GeoDataFrame` that we'll focus on in this tutorial. Here we'll first take a bit of time to examine a `GeoSeries`."
      ]
    },
    {
      "cell_type": "markdown",
      "metadata": {
        "id": "8fnSGCi5mbEs"
      },
      "source": [
        "A `GeoSeries` is made up of an index and a GeoPandas `geometry` data type. This data type is a [shapely.geometry object](http://toblerity.org/shapely/manual.html#geometric-objects), and therefore inherits their attributes and methods such as `area`, `bounds`, `distance`, etc.\n",
        "\n",
        "GeoPandas has six classes of **geometric objects**, corresponding to the three basic single-entity geometric types and their associated homogeneous collections of multiple entities:\n",
        "- **Single entity (core, basic types):**\n",
        "  - Point\n",
        "  - Line (*formally known as a LineString*)\n",
        "  - Polygon\n",
        "- **Homogeneous entity collections:**\n",
        "  - Multi-Point\n",
        "  - Multi-Line (*MultiLineString*)\n",
        "  - Multi-Polygon\n",
        "\n",
        "A `GeoSeries` is then a list of geometry objects and their associated index values."
      ]
    },
    {
      "cell_type": "markdown",
      "metadata": {
        "id": "CT6QhKXembEs"
      },
      "source": [
        "<div class=\"alert alert-warning\" style=\"font-size:100%\">\n",
        "<b style=\"font-size:120%\">Entries (rows) in a GeoSeries can store different geometry types!</b></br></br>\n",
        "\n",
        "GeoPandas does not constrain the geometry column to be of the same geometry type. This can lead to unexpected problems if you're not careful! Specially if you're used to thinking of a GIS file format like shape files, which store a single geometry type. Also beware that certain export operations (say, to shape files ...) will fail if the list of geometry objects is heterogeneous.\n",
        "</div>"
      ]
    },
    {
      "cell_type": "markdown",
      "metadata": {
        "id": "D4pyDEpHmbEt"
      },
      "source": [
        "But enough theory! Let's get to the code. We'll start by illustrating how GeoSeries are constructured."
      ]
    },
    {
      "cell_type": "markdown",
      "metadata": {
        "id": "I4Ba1yP3mbEt"
      },
      "source": [
        "### Create a `GeoSeries` from a list of `shapely Point` objects using the `Point` constructor"
      ]
    },
    {
      "cell_type": "code",
      "execution_count": null,
      "metadata": {
        "colab": {
          "base_uri": "https://localhost:8080/"
        },
        "id": "BSJT6g9TmbEt",
        "outputId": "882a3002-fe56-4721-f265-ced4c078d2bd"
      },
      "outputs": [],
      "source": [
        "gs = GeoSeries([Point(-120, 45), Point(-121.2, 46), Point(-122.9, 47.5)])\n",
        "gs"
      ]
    },
    {
      "cell_type": "code",
      "execution_count": null,
      "metadata": {
        "colab": {
          "base_uri": "https://localhost:8080/"
        },
        "id": "QD8AbmFPmbEt",
        "outputId": "0fe88888-34bd-4beb-af8d-2d94e1a4a5eb"
      },
      "outputs": [],
      "source": [
        "type(gs), len(gs)"
      ]
    },
    {
      "cell_type": "markdown",
      "metadata": {
        "id": "ausLMeA8mbEt"
      },
      "source": [
        "Occasionally -- but rarely -- you may encounter the need to parse and convert a geometry found as a `WKT` string. A `shapely Point` object can be constructed from it using`shapely.wkt.loads`:\n",
        "```python\n",
        "from shapely.wkt import loads\n",
        "loads('POINT(-121.2 46)')\n",
        "```"
      ]
    },
    {
      "cell_type": "markdown",
      "metadata": {
        "id": "rapBM8jFmbEu"
      },
      "source": [
        "A GeoSeries (and a GeoDataFrame) can store a CRS implicitly associated with the geometry column. This is useful as essential spatial metadata and for transformation (reprojection) to another CRS. Let's assign the CRS, then plot it."
      ]
    },
    {
      "cell_type": "code",
      "execution_count": null,
      "metadata": {
        "colab": {
          "base_uri": "https://localhost:8080/"
        },
        "id": "QfnDrVQRmbEu",
        "outputId": "c9c92a08-2aae-40e1-f824-d4957d56f739"
      },
      "outputs": [],
      "source": [
        "gs.crs = {'init': 'epsg:4326'}"
      ]
    },
    {
      "cell_type": "code",
      "execution_count": null,
      "metadata": {
        "colab": {
          "base_uri": "https://localhost:8080/",
          "height": 282
        },
        "id": "7lG1ks7jmbEu",
        "outputId": "7bbf6edf-f6d2-4c9f-9ee3-9e24def70e2b"
      },
      "outputs": [],
      "source": [
        "gs.plot()"
      ]
    },
    {
      "cell_type": "markdown",
      "metadata": {
        "id": "mT8HMpnRmbEu"
      },
      "source": [
        "The `plot` method accepts standard `matplotlib.pyplot` style options, and can be tweaked like any other `matplotlib` figure."
      ]
    },
    {
      "cell_type": "code",
      "execution_count": null,
      "metadata": {
        "colab": {
          "base_uri": "https://localhost:8080/",
          "height": 265
        },
        "id": "FxnigzdSmbEu",
        "outputId": "e65ef93a-5959-4dee-fd93-dbe45ac004ba"
      },
      "outputs": [],
      "source": [
        "gs.plot(marker='*', color='red', markersize=100, figsize=(4, 4))\n",
        "plt.xlim([-123, -119.8])\n",
        "plt.ylim([44.8, 47.7]);"
      ]
    },
    {
      "cell_type": "markdown",
      "metadata": {
        "id": "WIdkkkQdmbEv"
      },
      "source": [
        "**Let's get a bit fancier, as a stepping stone to GeoDataFrames.** First, we'll define a simple dictionary of lists, that we'll use again later."
      ]
    },
    {
      "cell_type": "code",
      "execution_count": null,
      "metadata": {
        "id": "V4i8Ib_ambEv"
      },
      "outputs": [],
      "source": [
        "data = {'name': ['a', 'b', 'c'],\n",
        "        'lat': [45, 46, 47.5],\n",
        "        'lon': [-120, -121.2, -122.9]}"
      ]
    },
    {
      "cell_type": "markdown",
      "metadata": {
        "id": "xMDBpVcJmbEv"
      },
      "source": [
        "Note this convenient, compact approach to create a list of `Point` shapely objects out of X & Y coordinate lists using the `gpd.points_from_xy` convenience method (introduced in version 0.5.0). The same result could be obtained with the more verbose form `geometry = [Point(x,y) for x,y in zip(data['lon'], data['lat'])]`."
      ]
    },
    {
      "cell_type": "code",
      "execution_count": null,
      "metadata": {
        "id": "uxkshMVymbEv"
      },
      "outputs": [],
      "source": [
        "geometry = gpd.points_from_xy(data['lon'], data['lat'])"
      ]
    },
    {
      "cell_type": "markdown",
      "metadata": {
        "id": "VZMKoRQOmbEv"
      },
      "source": [
        "We'll wrap up by creating a GeoSeries where we explicitly define the index values."
      ]
    },
    {
      "cell_type": "code",
      "execution_count": null,
      "metadata": {
        "colab": {
          "base_uri": "https://localhost:8080/"
        },
        "id": "hPOq8KV3mbEv",
        "outputId": "bcda3a7d-192b-4e9c-d9b9-bed8e7ea75e9"
      },
      "outputs": [],
      "source": [
        "gs = GeoSeries(geometry, index=data['name'])\n",
        "gs"
      ]
    },
    {
      "cell_type": "markdown",
      "metadata": {
        "id": "MRzLtC2TmbEv"
      },
      "source": [
        "## 4. GeoDataFrames: The real power tool"
      ]
    },
    {
      "cell_type": "markdown",
      "metadata": {
        "id": "IHHXPxIembEw"
      },
      "source": [
        "<div class=\"alert alert-info\" style=\"font-size:100%\">\n",
        "\n",
        "It's worth noting that a GeoDataFrame can be described as a **Feature Collection**, where each row is a *Feature*, a *geometry* column is defined (thought the name of the column doesn't have to be \"geometry\"), and the attribute *properties* includes the other columns (the Pandas DataFrame part, if you will).\n",
        "\n",
        "</div>"
      ]
    },
    {
      "cell_type": "markdown",
      "metadata": {
        "id": "KZUVz-mombEw"
      },
      "source": [
        "<div class=\"alert alert-warning\" style=\"font-size:100%\">\n",
        "\n",
        "More than one column can store geometry objects! We won't explore this capability in this tutorial.\n",
        "\n",
        "</div>"
      ]
    },
    {
      "cell_type": "markdown",
      "metadata": {
        "id": "hEftM3yombEw"
      },
      "source": [
        "### Start with a simple, manually constructed illustration"
      ]
    },
    {
      "cell_type": "markdown",
      "metadata": {
        "id": "dJViHdAMmbEw"
      },
      "source": [
        "We'll build on the GeoSeries examples. Let's reuse the `data` dictionary we defined earlier, this time to create a DataFrame."
      ]
    },
    {
      "cell_type": "code",
      "execution_count": null,
      "metadata": {
        "colab": {
          "base_uri": "https://localhost:8080/",
          "height": 143
        },
        "id": "EidzHfHnmbEw",
        "outputId": "02056fcd-9379-43c3-9402-ffd24da564a8"
      },
      "outputs": [],
      "source": [
        "df = pd.DataFrame(data)\n",
        "df"
      ]
    },
    {
      "cell_type": "markdown",
      "metadata": {
        "id": "oQLut-w3mbEw"
      },
      "source": [
        "Now we use the DataFrame and `points_from_xy` (which creates a list of shapely Point objects) to create a GeoDataFrame. Note the use of two DataFrame attribute columns, which are effectively just two simple Pandas Series."
      ]
    },
    {
      "cell_type": "code",
      "execution_count": null,
      "metadata": {
        "id": "yCi_BWRFmbEw"
      },
      "outputs": [],
      "source": [
        "gdf = GeoDataFrame(df, geometry=gpd.points_from_xy(df['lon'], df['lat']))"
      ]
    },
    {
      "cell_type": "code",
      "execution_count": null,
      "metadata": {
        "colab": {
          "base_uri": "https://localhost:8080/",
          "height": 143
        },
        "id": "CuFAUw4VJBg2",
        "outputId": "46b8fa5e-df9b-4d32-f16b-98537ea834e7"
      },
      "outputs": [],
      "source": [
        "gdf"
      ]
    },
    {
      "cell_type": "markdown",
      "metadata": {
        "id": "zMPuvVwDmbEw"
      },
      "source": [
        "There's nothing new to visualize, but this time we're using the `plot` method from a GeoDataFrame, *not* from a GeoSeries. They're not exactly the same thing under the hood."
      ]
    },
    {
      "cell_type": "code",
      "execution_count": null,
      "metadata": {
        "colab": {
          "base_uri": "https://localhost:8080/",
          "height": 192
        },
        "id": "OVfghn3zmbEw",
        "outputId": "1976ceeb-c0f4-488b-ae56-a93e8a405bb4"
      },
      "outputs": [],
      "source": [
        "gdf.plot(marker='*', color='green', markersize=50, figsize=(3, 3));"
      ]
    },
    {
      "cell_type": "markdown",
      "metadata": {
        "id": "ejrvx2f-mbEx"
      },
      "source": [
        "### FINALLY, we get to work with real data! Load and examine the simple \"oceans\" shape file"
      ]
    },
    {
      "cell_type": "markdown",
      "metadata": {
        "id": "ZwyMEFksmbEx"
      },
      "source": [
        "`gpd.read_file` is the workhorse for reading GIS files. It leverages the [fiona](http://toblerity.org/fiona/README.html) package."
      ]
    },
    {
      "cell_type": "code",
      "execution_count": null,
      "metadata": {
        "colab": {
          "base_uri": "https://localhost:8080/"
        },
        "id": "KTlyRjsuxuQe",
        "outputId": "1c7d8af8-8a80-4d6e-ebd6-acd033c63817"
      },
      "outputs": [],
      "source": [
        "!wget https://github.com/geohackweek/tutorial_contents/raw/master/vector/data/oceans.shp\n",
        "!wget https://github.com/geohackweek/tutorial_contents/raw/master/vector/data/oceans.shx"
      ]
    },
    {
      "cell_type": "code",
      "execution_count": null,
      "metadata": {
        "id": "ngXuneMOmbEx"
      },
      "outputs": [],
      "source": [
        "oceans = gpd.read_file(\"./oceans.shp\")"
      ]
    },
    {
      "cell_type": "code",
      "execution_count": null,
      "metadata": {
        "colab": {
          "base_uri": "https://localhost:8080/",
          "height": 205
        },
        "id": "Vxm3XSgLmbEx",
        "outputId": "3c05d57a-2beb-4bce-b0bf-46adaa7664b3"
      },
      "outputs": [],
      "source": [
        "oceans.head()"
      ]
    },
    {
      "cell_type": "markdown",
      "metadata": {
        "id": "wkUzIEsymbEx"
      },
      "source": [
        "The `crs` was read from the shape file's `prj` file:"
      ]
    },
    {
      "cell_type": "code",
      "execution_count": null,
      "metadata": {
        "id": "fAnPVx7CmbEx"
      },
      "outputs": [],
      "source": [
        "oceans.crs"
      ]
    },
    {
      "cell_type": "markdown",
      "metadata": {
        "id": "uuzhowZmmbEx"
      },
      "source": [
        "Now we finally plot a real map (or blobs, depending on your aesthetics), from a dataset that's global-scale and stored in \"geographic\" (latitude & longitude) coordinates. It's *not* the actual ocean shapes defined by coastal boundaries, but bear with me. A colormap has been applied to distinguish the different \"oceans\"."
      ]
    },
    {
      "cell_type": "code",
      "execution_count": null,
      "metadata": {
        "colab": {
          "base_uri": "https://localhost:8080/",
          "height": 327
        },
        "id": "6xRyywj2mbEy",
        "outputId": "b506de1b-7dc2-45d2-d944-940056f41684"
      },
      "outputs": [],
      "source": [
        "oceans.plot(cmap='Set2', figsize=(10, 10));"
      ]
    },
    {
      "cell_type": "markdown",
      "metadata": {
        "id": "HIPKLRuZmbEy"
      },
      "source": [
        "`oceans.shp` stores both `Polygon` and `Multi-Polygon` geometry types (a `Polygon` may also be viewed as a `Multi-Polygon` with 1 member). We can get at the geometry types and other geometry properties easily."
      ]
    },
    {
      "cell_type": "code",
      "execution_count": null,
      "metadata": {
        "colab": {
          "base_uri": "https://localhost:8080/"
        },
        "id": "37L93yGRmbEy",
        "outputId": "e937be91-52bf-4e93-dac3-830e8b31f73b"
      },
      "outputs": [],
      "source": [
        "oceans.geom_type"
      ]
    },
    {
      "cell_type": "code",
      "execution_count": null,
      "metadata": {
        "colab": {
          "base_uri": "https://localhost:8080/"
        },
        "id": "DyQhcr2smbEy",
        "outputId": "98aa4855-8eee-4822-b9d8-7dc418b41c75"
      },
      "outputs": [],
      "source": [
        "# Beware that these area calculations are in the native degrees units, which is fairly useless\n",
        "oceans.geometry.area"
      ]
    },
    {
      "cell_type": "code",
      "execution_count": null,
      "metadata": {
        "colab": {
          "base_uri": "https://localhost:8080/",
          "height": 267
        },
        "id": "gEqEYb-rmbEy",
        "outputId": "7b879358-feda-4e12-95e0-c671e619cfca"
      },
      "outputs": [],
      "source": [
        "oceans.geometry.bounds"
      ]
    },
    {
      "cell_type": "markdown",
      "metadata": {
        "id": "0u5HcUyUmbEy"
      },
      "source": [
        "The `envelope` method returns the bounding box for each polygon. This could be used to create a new spatial column or GeoSeries; directly for plotting; etc."
      ]
    },
    {
      "cell_type": "code",
      "execution_count": null,
      "metadata": {
        "colab": {
          "base_uri": "https://localhost:8080/",
          "height": 271
        },
        "id": "lLwBRP9umbEz",
        "outputId": "26ed1d50-31c8-408b-ad43-4be7f99f7842"
      },
      "outputs": [],
      "source": [
        "oceans.envelope.plot(cmap='Set2', figsize=(8, 8), alpha=0.7, edgecolor='black');"
      ]
    },
    {
      "cell_type": "markdown",
      "metadata": {
        "id": "sG1G6q1rmbEz"
      },
      "source": [
        "Does it seem weird that some envelope bounding boxes, such as the North Pacific Ocean, span all longitudes? That's because they're Multi-Polygons with edges at the ends of the -180 and +180 degree coordinate range."
      ]
    },
    {
      "cell_type": "markdown",
      "metadata": {
        "id": "b51YDfuymbEz"
      },
      "source": [
        "### Load \"Natural Earth\" countries dataset, bundled with GeoPandas\n",
        "*\"[Natural Earth](http://www.naturalearthdata.com) is a public domain map dataset available at 1:10m, 1:50m, and 1:110 million scales. Featuring tightly integrated vector and raster data, with Natural Earth you can make a variety of visually pleasing, well-crafted maps with cartography or GIS software.\"* A subset comes bundled with GeoPandas and is accessible from the `gpd.datasets` module. We'll use it as a helpful global base layer map."
      ]
    },
    {
      "cell_type": "code",
      "execution_count": null,
      "metadata": {
        "colab": {
          "base_uri": "https://localhost:8080/",
          "height": 146
        },
        "id": "5kpN1IcWmbEz",
        "outputId": "04b9efdb-8d7e-4534-a333-a0b89986bd61"
      },
      "outputs": [],
      "source": [
        "world = gpd.read_file(gpd.datasets.get_path('naturalearth_lowres'))\n",
        "world.head(2)"
      ]
    },
    {
      "cell_type": "markdown",
      "metadata": {
        "id": "z_avLQzHmbEz"
      },
      "source": [
        "Its CRS is also EPSG:4326:"
      ]
    },
    {
      "cell_type": "code",
      "execution_count": null,
      "metadata": {
        "colab": {
          "base_uri": "https://localhost:8080/"
        },
        "id": "iHMC-VXfmbEz",
        "outputId": "8484a0ec-b897-4218-bb67-624b1b2f915b"
      },
      "outputs": [],
      "source": [
        "world.crs"
      ]
    },
    {
      "cell_type": "code",
      "execution_count": null,
      "metadata": {
        "colab": {
          "base_uri": "https://localhost:8080/",
          "height": 264
        },
        "id": "650cB6QpmbE0",
        "outputId": "b4db8c62-5a69-4886-814e-067a9171ebc8"
      },
      "outputs": [],
      "source": [
        "world.plot(figsize=(8, 8));"
      ]
    },
    {
      "cell_type": "markdown",
      "metadata": {
        "id": "zVzZxNEombE0"
      },
      "source": [
        "### Map plot overlays: Plotting multiple spatial layers"
      ]
    },
    {
      "cell_type": "markdown",
      "metadata": {
        "id": "09FjbMHzmbE0"
      },
      "source": [
        "Here's a compact, quick way of using the GeoDataFrame plot method to overlay two GeoDataFrames while customizing the styles for each layer. The \"inner\" plot (`oceans`) is displayed in the background."
      ]
    },
    {
      "cell_type": "code",
      "execution_count": null,
      "metadata": {
        "colab": {
          "base_uri": "https://localhost:8080/",
          "height": 327
        },
        "id": "csgQJym8mbE0",
        "outputId": "7529c35b-505e-4e69-bd67-c007776528d2"
      },
      "outputs": [],
      "source": [
        "world.plot(ax=oceans.plot(cmap='Set2', figsize=(10, 10)), \n",
        "           facecolor='gray');"
      ]
    },
    {
      "cell_type": "markdown",
      "metadata": {
        "id": "uy3XGmV_mbE0"
      },
      "source": [
        "We can also compose the plot using conventional `matplotlib` steps and options that give us more control."
      ]
    },
    {
      "cell_type": "code",
      "execution_count": null,
      "metadata": {
        "colab": {
          "base_uri": "https://localhost:8080/",
          "height": 368
        },
        "id": "pnJrg5VdmbE0",
        "outputId": "97d36667-d117-4739-8cb1-b1f5d0e0248d"
      },
      "outputs": [],
      "source": [
        "f, ax = plt.subplots(1, figsize=(12, 6))\n",
        "ax.set_title('Countries and Ocean Basins')\n",
        "# Other nice categorical color maps (cmap) include 'Set2' and 'Set3'\n",
        "oceans.plot(ax=ax, cmap='Paired')\n",
        "world.plot(ax=ax, facecolor='lightgray', edgecolor='gray')\n",
        "ax.set_ylim([-90, 90])\n",
        "ax.set_axis_off()\n",
        "plt.axis('equal');"
      ]
    },
    {
      "cell_type": "markdown",
      "metadata": {
        "id": "q-dvZTFZmbE0"
      },
      "source": [
        "<div class=\"alert alert-success\" style=\"font-size:100%\">\n",
        "<b style=\"font-size:120%\">Time to Explore</b></br>\n",
        "\n",
        "Let's stop for a bit to explore on your own, hack with your neighbors, ask questions.\n",
        "\n",
        "</div>"
      ]
    }
  ],
  "metadata": {
    "colab": {
      "provenance": []
    },
    "kernelspec": {
      "display_name": "tensorflow-apple-sillicon",
      "language": "python",
      "name": "python3"
    },
    "language_info": {
      "codemirror_mode": {
        "name": "ipython",
        "version": 3
      },
      "file_extension": ".py",
      "mimetype": "text/x-python",
      "name": "python",
      "nbconvert_exporter": "python",
      "pygments_lexer": "ipython3",
      "version": "3.9.15"
    },
    "vscode": {
      "interpreter": {
        "hash": "6038a99827bc0937dc1a04b662e99bd5e97a57d601faa9d169aec452a17053e6"
      }
    }
  },
  "nbformat": 4,
  "nbformat_minor": 0
}
