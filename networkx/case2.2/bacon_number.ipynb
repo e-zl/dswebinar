{
 "cells": [
  {
   "attachments": {},
   "cell_type": "markdown",
   "metadata": {},
   "source": [
    "# Bacon Number\n",
    "\n",
    "[Jian Tao](https://coehpc.engr.tamu.edu/people/jian-tao/), Texas A&M University and [Enrique Z. Losoya](https://orcid.org/0000-0001-7763-3349), Texas A&M University. \n",
    "\n",
    "January 3, 2023.\n",
    "\n",
    "The [Bacon number](https://en.wikipedia.org/wiki/Six_Degrees_of_Kevin_Bacon#Bacon_numbers) of an actor or actress is the number of degrees of separation (see Six degrees of separation) they have from actor Kevin Bacon, as defined by the game known as [Six Degrees of Kevin Bacon](https://en.wikipedia.org/wiki/Six_Degrees_of_Kevin_Bacon). The higher the Bacon number, the farther away from Kevin Bacon the actor is.\n",
    "\n",
    "For example, Kevin Bacon's Bacon number is 0. If an actor works in a movie with Kevin Bacon, the actor's Bacon number is 1. If an actor works with an actor who worked with Kevin Bacon in a movie, the first actor's Bacon number is 2, and so forth.\n",
    "\n",
    "Using the file Movie_Data.txt in the repository to\n",
    "\n",
    "1. Construct a graph with pandas and NetworkX;\n",
    "2. Implement a function to find Bacon number of an arbitrary actor/actress;\n",
    "3. Find the Bacon number of Bruce Lee and Elizabeth Taylor or your favorite actor/actress using your function from step 2. \n",
    "\n",
    "The movie data was downloaded and uncompressed from https://oracleofbacon.org/data.txt.bz2, which is collected with a Ruby script by Patrick Reynolds at https://github.com/piki/wikipedia-film-database."
   ]
  },
  {
   "cell_type": "code",
   "execution_count": 1,
   "metadata": {},
   "outputs": [],
   "source": [
    "import pandas as pd\n",
    "import numpy as np\n",
    "import networkx as nx\n",
    "import matplotlib.pyplot as plt\n",
    "from itertools import combinations"
   ]
  },
  {
   "cell_type": "markdown",
   "metadata": {},
   "source": [
    "Read in the movie data and explore the content."
   ]
  },
  {
   "cell_type": "code",
   "execution_count": 2,
   "metadata": {},
   "outputs": [],
   "source": [
    "df = pd.read_json('https://raw.githubusercontent.com/e-zl/dswebinar/master/networkx/case2.2/Movie_Data.txt', lines = True)"
   ]
  },
  {
   "cell_type": "code",
   "execution_count": 3,
   "metadata": {},
   "outputs": [
    {
     "data": {
      "text/html": [
       "<div>\n",
       "<style scoped>\n",
       "    .dataframe tbody tr th:only-of-type {\n",
       "        vertical-align: middle;\n",
       "    }\n",
       "\n",
       "    .dataframe tbody tr th {\n",
       "        vertical-align: top;\n",
       "    }\n",
       "\n",
       "    .dataframe thead th {\n",
       "        text-align: right;\n",
       "    }\n",
       "</style>\n",
       "<table border=\"1\" class=\"dataframe\">\n",
       "  <thead>\n",
       "    <tr style=\"text-align: right;\">\n",
       "      <th></th>\n",
       "      <th>title</th>\n",
       "      <th>cast</th>\n",
       "      <th>directors</th>\n",
       "      <th>producers</th>\n",
       "      <th>companies</th>\n",
       "      <th>year</th>\n",
       "    </tr>\n",
       "  </thead>\n",
       "  <tbody>\n",
       "    <tr>\n",
       "      <th>0</th>\n",
       "      <td>Actrius</td>\n",
       "      <td>[Núria Espert, Rosa Maria Sardà, Anna Lizaran,...</td>\n",
       "      <td>[Ventura Pons]</td>\n",
       "      <td>[Ventura Pons]</td>\n",
       "      <td>[Canal+ España, Els Films de la Rambla S.A., G...</td>\n",
       "      <td>1997.0</td>\n",
       "    </tr>\n",
       "    <tr>\n",
       "      <th>1</th>\n",
       "      <td>Army of Darkness</td>\n",
       "      <td>[Bruce Campbell, Embeth Davidtz, Marcus Gilber...</td>\n",
       "      <td>[Sam Raimi]</td>\n",
       "      <td>[Robert Tapert]</td>\n",
       "      <td>[Dino De Laurentiis Communications, Renaissanc...</td>\n",
       "      <td>1992.0</td>\n",
       "    </tr>\n",
       "    <tr>\n",
       "      <th>2</th>\n",
       "      <td>The Birth of a Nation</td>\n",
       "      <td>[Lillian Gish, Mae Marsh, Henry B. Walthall, M...</td>\n",
       "      <td>[D. W. Griffith]</td>\n",
       "      <td>[D. W. Griffith, Harry Aitken]</td>\n",
       "      <td>[David W. Griffith Corp., Epoch Producing Co.]</td>\n",
       "      <td>1915.0</td>\n",
       "    </tr>\n",
       "    <tr>\n",
       "      <th>3</th>\n",
       "      <td>Blade Runner</td>\n",
       "      <td>[Harrison Ford, Rutger Hauer, Sean Young, Edwa...</td>\n",
       "      <td>[Ridley Scott]</td>\n",
       "      <td>[Michael Deeley]</td>\n",
       "      <td>[The Ladd Company, Shaw Brothers, Blade Runner...</td>\n",
       "      <td>1982.0</td>\n",
       "    </tr>\n",
       "    <tr>\n",
       "      <th>4</th>\n",
       "      <td>Blazing Saddles</td>\n",
       "      <td>[Cleavon Little, Gene Wilder, Harvey Korman, S...</td>\n",
       "      <td>[Mel Brooks]</td>\n",
       "      <td>[Michael Hertzberg]</td>\n",
       "      <td>[Warner Bros.]</td>\n",
       "      <td>1974.0</td>\n",
       "    </tr>\n",
       "  </tbody>\n",
       "</table>\n",
       "</div>"
      ],
      "text/plain": [
       "                   title                                               cast  \\\n",
       "0                Actrius  [Núria Espert, Rosa Maria Sardà, Anna Lizaran,...   \n",
       "1       Army of Darkness  [Bruce Campbell, Embeth Davidtz, Marcus Gilber...   \n",
       "2  The Birth of a Nation  [Lillian Gish, Mae Marsh, Henry B. Walthall, M...   \n",
       "3           Blade Runner  [Harrison Ford, Rutger Hauer, Sean Young, Edwa...   \n",
       "4        Blazing Saddles  [Cleavon Little, Gene Wilder, Harvey Korman, S...   \n",
       "\n",
       "          directors                       producers  \\\n",
       "0    [Ventura Pons]                  [Ventura Pons]   \n",
       "1       [Sam Raimi]                 [Robert Tapert]   \n",
       "2  [D. W. Griffith]  [D. W. Griffith, Harry Aitken]   \n",
       "3    [Ridley Scott]                [Michael Deeley]   \n",
       "4      [Mel Brooks]             [Michael Hertzberg]   \n",
       "\n",
       "                                           companies    year  \n",
       "0  [Canal+ España, Els Films de la Rambla S.A., G...  1997.0  \n",
       "1  [Dino De Laurentiis Communications, Renaissanc...  1992.0  \n",
       "2     [David W. Griffith Corp., Epoch Producing Co.]  1915.0  \n",
       "3  [The Ladd Company, Shaw Brothers, Blade Runner...  1982.0  \n",
       "4                                     [Warner Bros.]  1974.0  "
      ]
     },
     "execution_count": 3,
     "metadata": {},
     "output_type": "execute_result"
    }
   ],
   "source": [
    "df.head(5)"
   ]
  },
  {
   "cell_type": "code",
   "execution_count": 4,
   "metadata": {},
   "outputs": [
    {
     "name": "stdout",
     "output_type": "stream",
     "text": [
      "<class 'pandas.core.frame.DataFrame'>\n",
      "RangeIndex: 164318 entries, 0 to 164317\n",
      "Data columns (total 6 columns):\n",
      " #   Column     Non-Null Count   Dtype  \n",
      "---  ------     --------------   -----  \n",
      " 0   title      164318 non-null  object \n",
      " 1   cast       164318 non-null  object \n",
      " 2   directors  122964 non-null  object \n",
      " 3   producers  96024 non-null   object \n",
      " 4   companies  94051 non-null   object \n",
      " 5   year       121881 non-null  float64\n",
      "dtypes: float64(1), object(5)\n",
      "memory usage: 7.5+ MB\n"
     ]
    }
   ],
   "source": [
    "df.info()"
   ]
  },
  {
   "cell_type": "markdown",
   "metadata": {},
   "source": [
    "List all the movies that Bruce Lee played."
   ]
  },
  {
   "cell_type": "code",
   "execution_count": null,
   "metadata": {},
   "outputs": [],
   "source": [
    "for i in range(0,len(df)):\n",
    "    try:\n",
    "        if \"Bruce Lee\" in df[\"cast\"][i]:\n",
    "            print (df['title'][i])\n",
    "    except:\n",
    "        pass"
   ]
  },
  {
   "cell_type": "markdown",
   "metadata": {},
   "source": [
    "To get the Bacon Number, we first create a complex graph that associates different actors/actresses together based on their movies. In the graph, the actor/actress names are the nodes and if two actors/actresses are in the same movie they will be connected by an edge."
   ]
  },
  {
   "cell_type": "code",
   "execution_count": 6,
   "metadata": {},
   "outputs": [],
   "source": [
    "G = nx.Graph()\n",
    "for x in range(0,len(df)):\n",
    "    myList = list(combinations(df['cast'][x],2))\n",
    "    G.add_edges_from(myList)"
   ]
  },
  {
   "cell_type": "markdown",
   "metadata": {},
   "source": [
    "Define a function to find the Bacon Number of an actor/actress."
   ]
  },
  {
   "cell_type": "code",
   "execution_count": 7,
   "metadata": {},
   "outputs": [],
   "source": [
    "def Bacon_Number(Actor_Name):\n",
    "    bcn_num = nx.shortest_path_length(G,'Kevin Bacon', Actor_Name)\n",
    "    print (\"Bacon Number of %s is %d\" % (Actor_Name, bcn_num))\n",
    "    shortest_paths = nx.all_shortest_paths(G, 'Kevin Bacon', Actor_Name)\n",
    "    for sp in shortest_paths:\n",
    "        print(sp)\n",
    "    return bcn_num\n",
    "\n",
    "#function is used to determine the bacon number of a certain actor/actress, where the actor/actress name will be the input"
   ]
  },
  {
   "cell_type": "markdown",
   "metadata": {},
   "source": [
    "Let's find the Bacon Number of your favourite actor/actress!"
   ]
  },
  {
   "cell_type": "code",
   "execution_count": null,
   "metadata": {},
   "outputs": [],
   "source": [
    "Bacon_Number('Bruce Lee')\n",
    "#determines bacon number of Bruce Lee"
   ]
  },
  {
   "cell_type": "code",
   "execution_count": null,
   "metadata": {},
   "outputs": [],
   "source": [
    "Bacon_Number('Elizabeth Taylor')\n",
    "#determines Bacon Number of Elizabeth taylor"
   ]
  }
 ],
 "metadata": {
  "kernelspec": {
   "display_name": "tensorflow-apple-sillicon",
   "language": "python",
   "name": "python3"
  },
  "language_info": {
   "codemirror_mode": {
    "name": "ipython",
    "version": 3
   },
   "file_extension": ".py",
   "mimetype": "text/x-python",
   "name": "python",
   "nbconvert_exporter": "python",
   "pygments_lexer": "ipython3",
   "version": "3.9.15"
  },
  "vscode": {
   "interpreter": {
    "hash": "6038a99827bc0937dc1a04b662e99bd5e97a57d601faa9d169aec452a17053e6"
   }
  }
 },
 "nbformat": 4,
 "nbformat_minor": 4
}
