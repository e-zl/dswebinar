{
  "cells": [
    {
      "attachments": {},
      "cell_type": "markdown",
      "metadata": {
        "id": "iEa2Rdcug0jN"
      },
      "source": [
        "# Time Series Analysis with Great Britain Power Consumption Data\n",
        "\n",
        "[Enrique Z. Losoya](https://orcid.org/0000-0001-7763-3349) and [Jian Tao](https://orcid.org/0000-0003-4228-6089), Texas A&M University.\n",
        "\n",
        "Updated: Jan. 2, 2023.\n",
        "\n",
        "The data set is downloaded from [Open Power System Data (last updated on 10/06/2020)](https://data.open-power-system-data.org/time_series/2020-10-06)\n",
        "A local copy of the data can be found in time_series_30min_singleindex.csv. The descrition of the data set can be found in time_series_30min_singleindex.txt."
      ]
    },
    {
      "cell_type": "markdown",
      "metadata": {
        "id": "D5xyDQwng0jN"
      },
      "source": [
        "## 1. Read and Clean Data"
      ]
    },
    {
      "cell_type": "code",
      "execution_count": null,
      "metadata": {
        "id": "xxXjuME-g0jN"
      },
      "outputs": [],
      "source": [
        "# import pandas and make sure the plots show properly in Jupyter notebook.\n",
        "data_url=\"https://data.open-power-system-data.org/time_series/2020-10-06/time_series_30min_singleindex.csv\"\n",
        "data_file=\"time_series_30min_singleindex.csv\"\n",
        "%matplotlib inline\n",
        "import os\n",
        "import pandas as pd\n",
        "import seaborn as sns\n",
        "sns.set()"
      ]
    },
    {
      "cell_type": "code",
      "execution_count": null,
      "metadata": {
        "colab": {
          "base_uri": "https://localhost:8080/"
        },
        "id": "0stTOrnLg0jO",
        "outputId": "f0172d81-7383-45a1-d7f2-81a0d3131922"
      },
      "outputs": [],
      "source": [
        "if not os.path.exists(data_file):\n",
        "    !wget $data_url"
      ]
    },
    {
      "cell_type": "code",
      "execution_count": null,
      "metadata": {
        "colab": {
          "base_uri": "https://localhost:8080/"
        },
        "id": "q_p3_L_xg0jO",
        "outputId": "7662bbd2-43fd-4022-96bb-bb71e28301ea"
      },
      "outputs": [],
      "source": [
        "# read the data\n",
        "df=pd.read_csv(data_file)\n",
        "# let's take a look at the data right after it is imported.\n",
        "df\n",
        "df.info()"
      ]
    },
    {
      "cell_type": "code",
      "execution_count": null,
      "metadata": {
        "colab": {
          "base_uri": "https://localhost:8080/"
        },
        "id": "6CYUZzuZg0jO",
        "outputId": "c0f2410d-e8af-425c-d293-b33fbf440a64"
      },
      "outputs": [],
      "source": [
        "# we only want to look into the total energy consumption, solar energy generation, and wind energy generation\n",
        "df=df[[\"utc_timestamp\",\"GB_GBN_load_actual_entsoe_transparency\", \"GB_GBN_solar_generation_actual\", \"GB_GBN_wind_generation_actual\"]]\n",
        "\n",
        "# rename the column names to make it easy to use them\n",
        "df.columns=[\"time\", \"total\", \"solar\", \"wind\"]\n",
        "\n",
        "# let's see how df looks like now. \n",
        "df"
      ]
    },
    {
      "cell_type": "code",
      "execution_count": null,
      "metadata": {
        "colab": {
          "base_uri": "https://localhost:8080/"
        },
        "id": "4jb7Vtglg0jO",
        "outputId": "847f16a3-7736-46af-bc29-1ee35a7baba3"
      },
      "outputs": [],
      "source": [
        "# make the time as the index of the rows for easy manipulation with pandas builtin functions.\n",
        "df[\"time\"] = pd.to_datetime(df[\"time\"])\n",
        "df.set_index([\"time\"], inplace=True)\n",
        "\n",
        "# let's take a look at df that we will be working on. \n",
        "# Don't worry about NaNs as there are always missing data points in real world datasets.\n",
        "df"
      ]
    },
    {
      "cell_type": "code",
      "execution_count": null,
      "metadata": {
        "colab": {
          "base_uri": "https://localhost:8080/"
        },
        "id": "aOXrS2osg0jO",
        "outputId": "b80d9ebe-b0f5-4f04-d7b8-736b4e42df96"
      },
      "outputs": [],
      "source": [
        "df.index"
      ]
    },
    {
      "cell_type": "code",
      "execution_count": null,
      "metadata": {
        "colab": {
          "base_uri": "https://localhost:8080/"
        },
        "id": "bsISleOSg0jP",
        "outputId": "d84a193b-1586-491b-f893-844cada654e6"
      },
      "outputs": [],
      "source": [
        "# some more information about the data set\n",
        "df.info()"
      ]
    },
    {
      "cell_type": "code",
      "execution_count": null,
      "metadata": {
        "colab": {
          "base_uri": "https://localhost:8080/"
        },
        "id": "HE7OrO9Ug0jP",
        "outputId": "d0d5738e-5ee7-4fe0-ddea-c1e07e6f3805"
      },
      "outputs": [],
      "source": [
        "# statistics of the data set. Here T is to transpose the matrix.\n",
        "df.describe().T"
      ]
    },
    {
      "cell_type": "code",
      "execution_count": null,
      "metadata": {
        "id": "0DM7v0jXg0jP"
      },
      "outputs": [],
      "source": [
        "# It is not a good practice to replace missing time series data with medians or means.\n",
        "# Instead, it is usally a better choice to use forward filling, backward \n",
        "# filling, linear interpolation, mean of nearest neighbours, etc.\n",
        "df_filled=df.bfill().ffill()"
      ]
    },
    {
      "cell_type": "code",
      "execution_count": null,
      "metadata": {
        "colab": {
          "base_uri": "https://localhost:8080/"
        },
        "id": "CfWpAdVFg0jP",
        "outputId": "4d6ad541-4249-4d6a-b8d0-91024b7bd17e"
      },
      "outputs": [],
      "source": [
        "df_filled.info()\n",
        "df_filled"
      ]
    },
    {
      "cell_type": "code",
      "execution_count": null,
      "metadata": {
        "id": "4vBZG-r9g0jP"
      },
      "outputs": [],
      "source": [
        "# we can save the file in a CSV file that could be directly used next time.\n",
        "df.to_csv(\"GB_power.csv\")"
      ]
    },
    {
      "cell_type": "markdown",
      "metadata": {
        "id": "U1kJBjyng0jP"
      },
      "source": [
        "## 2. Aggregration - aggregate data over a certain time period"
      ]
    },
    {
      "cell_type": "code",
      "execution_count": null,
      "metadata": {
        "colab": {
          "base_uri": "https://localhost:8080/"
        },
        "id": "Ygsmoma6g0jP",
        "outputId": "4acd2cf4-67d6-472a-946e-8ed3d82cb6af"
      },
      "outputs": [],
      "source": [
        "# let's try to resample the data every 5 days and output the mean value.\n",
        "\n",
        "df_5days_mean = df_filled[[\"total\",\"solar\",\"wind\"]].resample(\"5d\").mean(); df_5days_mean"
      ]
    },
    {
      "cell_type": "code",
      "execution_count": null,
      "metadata": {
        "colab": {
          "base_uri": "https://localhost:8080/"
        },
        "id": "E2TNzSL1g0jP",
        "outputId": "8d50d5ff-a789-4236-fc9b-dd0eaae4b640"
      },
      "outputs": [],
      "source": [
        "sns.set(rc={'figure.figsize':(12,4)})\n",
        "df_5days_mean.plot(title=\"Great Britain Power Consumption (MWh)\");"
      ]
    },
    {
      "cell_type": "code",
      "execution_count": null,
      "metadata": {
        "colab": {
          "base_uri": "https://localhost:8080/"
        },
        "id": "zGGGK4Jxg0jQ",
        "outputId": "26dc299c-fcb7-47b8-a7ff-bbd6e1c87512"
      },
      "outputs": [],
      "source": [
        "# aggregate the data to get the weekly max\n",
        "\n",
        "df_weekly_max = df_filled[[\"total\",\"solar\",\"wind\"]].resample(\"w\").max(); df_weekly_max"
      ]
    },
    {
      "cell_type": "code",
      "execution_count": null,
      "metadata": {
        "colab": {
          "base_uri": "https://localhost:8080/"
        },
        "id": "ezyOEnmmg0jQ",
        "outputId": "9dd226ad-26d6-4e6e-8017-170f6eee8fb4"
      },
      "outputs": [],
      "source": [
        "df_filled[\"total\"].plot()"
      ]
    },
    {
      "cell_type": "code",
      "execution_count": null,
      "metadata": {
        "colab": {
          "base_uri": "https://localhost:8080/"
        },
        "id": "uF_sCP7Rg0jQ",
        "outputId": "a7640fd1-7c8f-4ca4-df5a-49ea49797ea9"
      },
      "outputs": [],
      "source": [
        "df_weekly_max.plot(title=\"Great Britain Power Consumption (MWh)\");"
      ]
    },
    {
      "cell_type": "code",
      "execution_count": null,
      "metadata": {
        "colab": {
          "base_uri": "https://localhost:8080/"
        },
        "id": "Tz4QFQlgg0jQ",
        "outputId": "1c3e520d-6de9-45d3-b34b-906abf2eccc4"
      },
      "outputs": [],
      "source": [
        "# let's try to resample monthly and output the monthly median\n",
        "\n",
        "df_monthly_median = df_filled[[\"total\",\"solar\",\"wind\"]].resample(\"m\").median(); df_monthly_median"
      ]
    },
    {
      "cell_type": "code",
      "execution_count": null,
      "metadata": {
        "colab": {
          "base_uri": "https://localhost:8080/"
        },
        "id": "FJH6fHJwg0jQ",
        "outputId": "3be3773e-e1e8-431a-a543-48591a4da021"
      },
      "outputs": [],
      "source": [
        "df_monthly_median.plot(title=\"Great Britain Power Consumption (MWh)\");"
      ]
    },
    {
      "cell_type": "code",
      "execution_count": null,
      "metadata": {
        "colab": {
          "base_uri": "https://localhost:8080/"
        },
        "id": "rwhuerXCg0jQ",
        "outputId": "d397a6e2-a93b-4e51-86d2-e58ed4a6dcd6"
      },
      "outputs": [],
      "source": [
        "df_filled[[\"total\",\"solar\",\"wind\"]].resample(\"d\").median().plot(title=\"Great Britain Power Consumption (MWh)\").figure.savefig(\"energy.png\")"
      ]
    },
    {
      "cell_type": "markdown",
      "metadata": {
        "id": "IHaq5W_4g0jQ"
      },
      "source": [
        "## 3. Rolling Windows"
      ]
    },
    {
      "cell_type": "code",
      "execution_count": null,
      "metadata": {
        "colab": {
          "base_uri": "https://localhost:8080/"
        },
        "id": "-UjsW-fag0jQ",
        "outputId": "95de290f-3979-4d8a-beeb-0758907a3838"
      },
      "outputs": [],
      "source": [
        "# center = True below means the rolling mean would be calculated and placed next \n",
        "# to the center of the bin (with a width of 7 days). As a result, the first 3 and last\n",
        "# 3 rows are NaNs.\n",
        "\n",
        "df_7lags_rol = df_filled.rolling(window = 7, center = True).mean(); df_7lags_rol"
      ]
    },
    {
      "cell_type": "code",
      "execution_count": null,
      "metadata": {
        "colab": {
          "base_uri": "https://localhost:8080/"
        },
        "id": "yekgdow2g0jR",
        "outputId": "7ece7f63-b7ab-47ea-cad6-2e9bfd3e54a5"
      },
      "outputs": [],
      "source": [
        "df_7lags_rol.plot(title=\"Great Britain Power Consumption (MWh)\", figsize=(15,4));"
      ]
    },
    {
      "cell_type": "code",
      "execution_count": null,
      "metadata": {
        "colab": {
          "base_uri": "https://localhost:8080/"
        },
        "id": "jwoEbijrg0jR",
        "outputId": "0aad5f05-72db-45c0-e097-2c03a588ccb1"
      },
      "outputs": [],
      "source": [
        "df_filled[\"2018\"].resample(\"H\").median().plot()"
      ]
    },
    {
      "cell_type": "code",
      "execution_count": null,
      "metadata": {
        "colab": {
          "base_uri": "https://localhost:8080/"
        },
        "id": "kO23ssgvg0jR",
        "outputId": "a53e3951-8c0f-4bce-986e-826c6c8085d8"
      },
      "outputs": [],
      "source": [
        "df_monthly_median[\"total\"].plot(title=\"Total Great Britain Power Consumption (MWh)\", figsize=(15,4)).figure.savefig(\"energy.png\");"
      ]
    },
    {
      "cell_type": "markdown",
      "metadata": {
        "id": "MiCgmWq3IQbl"
      },
      "source": [
        "## Detrend with Differencing"
      ]
    },
    {
      "cell_type": "code",
      "execution_count": null,
      "metadata": {
        "id": "z5aNPDYNg0jR"
      },
      "outputs": [],
      "source": [
        "# Pandas has a builtin function for detrending. We can easily get the differencing with different orders.\n",
        "df_1st_diff=df_filled.resample(\"d\").median().diff(periods=1)"
      ]
    },
    {
      "cell_type": "code",
      "execution_count": null,
      "metadata": {
        "colab": {
          "base_uri": "https://localhost:8080/"
        },
        "id": "M5Qo8PSIyjOM",
        "outputId": "596b3486-7095-44bd-9411-80f917518753"
      },
      "outputs": [],
      "source": [
        "df_1st_diff.plot()"
      ]
    },
    {
      "cell_type": "code",
      "execution_count": null,
      "metadata": {
        "id": "ZCjyszq7Jq7m"
      },
      "outputs": [],
      "source": [
        "df_1st_diff = df_1st_diff[2:]"
      ]
    },
    {
      "cell_type": "code",
      "execution_count": null,
      "metadata": {
        "colab": {
          "base_uri": "https://localhost:8080/"
        },
        "id": "hcDPwi0Lg0jR",
        "outputId": "56d9fca9-b52a-4f97-e01d-91e5bedd6a4d"
      },
      "outputs": [],
      "source": [
        "df_1st_diff[\"total\"].plot(title=\"1st Order Differencing of the Total Power Usage\").figure.savefig(\"energy.png\");"
      ]
    },
    {
      "cell_type": "code",
      "execution_count": null,
      "metadata": {
        "colab": {
          "base_uri": "https://localhost:8080/"
        },
        "id": "efaIH73QzBFu",
        "outputId": "7781a8c1-e0cc-4010-a339-bfc7a3819ef6"
      },
      "outputs": [],
      "source": [
        "from statsmodels.tsa.stattools import kpss\n",
        "\n",
        "def kpss_test(timeseries):\n",
        "    print ('Results of KPSS Test:')\n",
        "    kpsstest = kpss(timeseries, regression='c')\n",
        "    kpss_output = pd.Series(kpsstest[0:3], index=['Test Statistic','p-value','Lags Used'])\n",
        "    for key,value in kpsstest[3].items():\n",
        "        kpss_output['Critical Value (%s)'%key] = value\n",
        "    print (kpss_output)"
      ]
    },
    {
      "cell_type": "code",
      "execution_count": null,
      "metadata": {
        "colab": {
          "base_uri": "https://localhost:8080/"
        },
        "id": "Sj8gGQbNzDOC",
        "outputId": "bc88e7a7-b2b9-4f88-ecf2-bcdddcba42c5"
      },
      "outputs": [],
      "source": [
        "kpss_test(df_1st_diff[\"total\"])"
      ]
    },
    {
      "cell_type": "code",
      "execution_count": null,
      "metadata": {
        "id": "-v8PM8Trzeo4"
      },
      "outputs": [],
      "source": [
        "# ADF test for checking the stationarity of a time series.\n",
        "from statsmodels.tsa.stattools import adfuller\n",
        "\n",
        "def adf_test(timeseries):\n",
        "    print ('Results of Dickey-Fuller Test:')\n",
        "    dftest = adfuller(timeseries, autolag='AIC')\n",
        "    dfoutput = pd.Series(dftest[0:4], index=['Test Statistic','p-value','#Lags Used','Number of Observations Used'])\n",
        "    for key,value in dftest[4].items():\n",
        "       dfoutput['Critical Value (%s)'%key] = value\n",
        "    print (dfoutput)"
      ]
    },
    {
      "cell_type": "code",
      "execution_count": null,
      "metadata": {
        "colab": {
          "base_uri": "https://localhost:8080/"
        },
        "id": "FEwn3o3Lzhnh",
        "outputId": "8b78ca36-be90-4360-d5b3-908318a827db"
      },
      "outputs": [],
      "source": [
        "adf_test(df_1st_diff[\"total\"])"
      ]
    },
    {
      "cell_type": "code",
      "execution_count": null,
      "metadata": {
        "id": "YRtMySFyIx6c"
      },
      "outputs": [],
      "source": [
        "from statsmodels.graphics.tsaplots import plot_acf, plot_pacf"
      ]
    },
    {
      "cell_type": "code",
      "execution_count": null,
      "metadata": {
        "colab": {
          "base_uri": "https://localhost:8080/"
        },
        "id": "HcEijWrVI4c5",
        "outputId": "d5db0b73-1ec1-446a-bdf3-a788c02929a4"
      },
      "outputs": [],
      "source": [
        "sns.set(rc={'figure.figsize':(12,4)})\n",
        "plot_acf(df_1st_diff[\"total\"]);\n",
        "plot_pacf(df_1st_diff[\"total\"]);"
      ]
    },
    {
      "cell_type": "code",
      "execution_count": null,
      "metadata": {
        "colab": {
          "base_uri": "https://localhost:8080/"
        },
        "id": "Z2PmRBDGg0jS",
        "outputId": "8f65e566-074e-4f64-e5b7-86b3e182d578"
      },
      "outputs": [],
      "source": [
        "pd.plotting.autocorrelation_plot(df_1st_diff[\"total\"])"
      ]
    },
    {
      "cell_type": "code",
      "execution_count": null,
      "metadata": {
        "id": "f7VDpyCWg0jS"
      },
      "outputs": [],
      "source": [
        "df_filled['Month'] = df_filled.index.month"
      ]
    },
    {
      "cell_type": "code",
      "execution_count": null,
      "metadata": {
        "colab": {
          "base_uri": "https://localhost:8080/"
        },
        "id": "wJ1OissGg0jS",
        "outputId": "98d51808-590e-4661-fb53-3d9dd1e7dbbf"
      },
      "outputs": [],
      "source": [
        "df_filled"
      ]
    },
    {
      "cell_type": "code",
      "execution_count": null,
      "metadata": {
        "colab": {
          "base_uri": "https://localhost:8080/"
        },
        "id": "NOQN79lPg0jS",
        "outputId": "2b8474f7-81f0-4241-b6da-f2cc6671ce6a"
      },
      "outputs": [],
      "source": [
        "# this is just for visualization purpose. \n",
        "import matplotlib.pyplot as plt\n",
        "fig, axes = plt.subplots(3, 1, figsize=(11, 10), sharex=True)\n",
        "for name, ax in zip(['total', 'solar', 'wind'], axes):\n",
        "    sns.boxplot(data=df_filled, x='Month', y=name, ax=ax)\n",
        "    ax.set_ylabel('MWh')\n",
        "    ax.set_title(name)\n",
        "    # Keep the x-axis label for only the bottom subplot\n",
        "    if ax != axes[-1]:\n",
        "        ax.set_xlabel('')\n",
        "plt.savefig(\"energy.png\")        "
      ]
    },
    {
      "cell_type": "markdown",
      "metadata": {
        "id": "Vm_gorpdcub8"
      },
      "source": [
        "## Import Modules and Make Time Series Stationary"
      ]
    },
    {
      "cell_type": "code",
      "execution_count": null,
      "metadata": {
        "id": "-N1ZtfvVLvZq"
      },
      "outputs": [],
      "source": [
        "from statsmodels.tsa.ar_model import AR\n",
        "from statsmodels.tsa.arima_model import ARIMA\n",
        "from sklearn.metrics import mean_squared_error\n",
        "from sklearn.model_selection import train_test_split"
      ]
    },
    {
      "cell_type": "markdown",
      "metadata": {
        "id": "ZAppBOye-icP"
      },
      "source": [
        "ARIMA is only working for stationary time series, so we need to detrend the data first."
      ]
    },
    {
      "cell_type": "code",
      "execution_count": null,
      "metadata": {
        "id": "PlkXa-cAL7BF"
      },
      "outputs": [],
      "source": [
        "# We must skip the first NaN due to the differencing. If we don't, the NaN will contaminate the rest of the calculations.\n",
        "X = df_filled[\"total\"].resample(\"h\").mean().diff(periods=1).values[2:]"
      ]
    },
    {
      "cell_type": "code",
      "execution_count": null,
      "metadata": {
        "colab": {
          "base_uri": "https://localhost:8080/"
        },
        "id": "xOmOEAY_fESn",
        "outputId": "68884809-1b87-48fa-baaf-39a820625843"
      },
      "outputs": [],
      "source": [
        "plt.plot(X)"
      ]
    },
    {
      "cell_type": "code",
      "execution_count": null,
      "metadata": {
        "id": "9xK_SojRMO6N"
      },
      "outputs": [],
      "source": [
        "#X_train, X_test = train_test_split(X, test_size=0.20, random_state=42)\n",
        "X_train = X[:40319]\n",
        "X_test = X[40319:]"
      ]
    },
    {
      "cell_type": "code",
      "execution_count": null,
      "metadata": {
        "colab": {
          "base_uri": "https://localhost:8080/"
        },
        "id": "h2dXnaQ9PCnh",
        "outputId": "bc554994-5788-40b0-abbf-c6f25eae3632"
      },
      "outputs": [],
      "source": [
        "X.shape"
      ]
    },
    {
      "cell_type": "code",
      "execution_count": null,
      "metadata": {
        "colab": {
          "base_uri": "https://localhost:8080/"
        },
        "id": "mZnHz7BtMP3w",
        "outputId": "2ff308ae-430b-4579-e1e7-235fa48c3009"
      },
      "outputs": [],
      "source": [
        "X_train.shape"
      ]
    },
    {
      "cell_type": "code",
      "execution_count": null,
      "metadata": {
        "colab": {
          "base_uri": "https://localhost:8080/"
        },
        "id": "Ib9y2qg-NCnA",
        "outputId": "c68aab0b-43f6-46af-bc4c-2fcaa9a7a5a3"
      },
      "outputs": [],
      "source": [
        "X_test.shape"
      ]
    },
    {
      "cell_type": "markdown",
      "metadata": {
        "id": "eFgOntX1c4BA"
      },
      "source": [
        "## AutoRegressive Model"
      ]
    },
    {
      "cell_type": "code",
      "execution_count": null,
      "metadata": {
        "id": "iMK450AgNEDm"
      },
      "outputs": [],
      "source": [
        "model_ar = AR(X_train)"
      ]
    },
    {
      "cell_type": "code",
      "execution_count": null,
      "metadata": {
        "id": "JdgfQQCXNKIO"
      },
      "outputs": [],
      "source": [
        "model_ar_fit = model_ar.fit()"
      ]
    },
    {
      "cell_type": "code",
      "execution_count": null,
      "metadata": {
        "id": "xvqAptHzNPJw"
      },
      "outputs": [],
      "source": [
        "ar_predict = model_ar_fit.predict(start=40319, end=50399)"
      ]
    },
    {
      "cell_type": "code",
      "execution_count": null,
      "metadata": {
        "colab": {
          "base_uri": "https://localhost:8080/"
        },
        "id": "a4Cpq3w_Nlbx",
        "outputId": "68bf9015-dfe1-46ea-ca47-b57c0bf1f39d"
      },
      "outputs": [],
      "source": [
        "plt.figure(figsize=(20,5))\n",
        "plt.plot(ar_predict)\n",
        "plt.plot(X_test, c=\"r\")"
      ]
    },
    {
      "cell_type": "markdown",
      "metadata": {
        "id": "bM6e4llb-9B-"
      },
      "source": [
        "It seems there are some outliers at the very beginning of the time series. We might want to remove them."
      ]
    },
    {
      "cell_type": "markdown",
      "metadata": {
        "id": "F96UOZYLc9y5"
      },
      "source": [
        "## ARIMA Model"
      ]
    },
    {
      "cell_type": "code",
      "execution_count": null,
      "metadata": {
        "id": "Jg9JJncJcDnV"
      },
      "outputs": [],
      "source": [
        "# ARIMA needs three parameters: p, d, q.\n",
        "# p = periods taken for autoregressive model\n",
        "# d = integrated order, difference\n",
        "# q = periods in moving average model\n",
        "model_arima = ARIMA(X_train, order=(2,1,0))"
      ]
    },
    {
      "cell_type": "code",
      "execution_count": null,
      "metadata": {
        "colab": {
          "base_uri": "https://localhost:8080/"
        },
        "id": "TUIcVxmlcnRI",
        "outputId": "bdb57505-49cd-4b25-ae02-16ceed1995aa"
      },
      "outputs": [],
      "source": [
        "model_arima_fit=model_arima.fit()\n",
        "print(model_arima_fit.aic)"
      ]
    },
    {
      "cell_type": "code",
      "execution_count": null,
      "metadata": {
        "colab": {
          "base_uri": "https://localhost:8080/"
        },
        "id": "dhi96NMkvl5Q",
        "outputId": "869f1aa4-7eb7-4b39-f9d4-62db69601b4b"
      },
      "outputs": [],
      "source": [
        "n_pred = 100 # Lead time, or forecasting horizon -- the number of steps ahead for out of sample forecast \n",
        "pred_array, se_array, CI_array = model_arima_fit.forecast(steps=n_pred,alpha=0.03) # alpha: confidence level\n",
        "plt.figure(figsize=(12,4))\n",
        "pred_array_index = range(40319, 40419)\n",
        "plt.plot(pred_array_index, X_test[:100])\n",
        "plt.plot(pred_array_index, pred_array, color = \"red\")\n",
        "plt.fill_between(pred_array_index, CI_array[:,0], CI_array[:,1], color = \"k\", alpha = .03 )\n",
        "plt.title('Forecast of the simulated data')\n",
        "plt.show()"
      ]
    },
    {
      "cell_type": "markdown",
      "metadata": {
        "id": "8kWeaKT8yOp_"
      },
      "source": [
        "## Find the Optimal Configuration for an ARIMA Model"
      ]
    },
    {
      "cell_type": "code",
      "execution_count": null,
      "metadata": {
        "id": "ut3-BGqPv5aI"
      },
      "outputs": [],
      "source": [
        "# data  : the train data in forms of numpy array\n",
        "# order : the maximum order of p, d, q for the grid search\n",
        "# return: optimal (p, d, q)\n",
        "\n",
        "# example: myorder = arima_order(X_train)\n",
        "\n",
        "def arima_order(data, order=10, verbose=True):\n",
        "  import warnings\n",
        "  import itertools\n",
        "  p=d=q=range(0,order)\n",
        "  pdq = list(itertools.product(p,d,q))\n",
        "  warnings.filterwarnings(\"ignore\")\n",
        "  aic_pair={}\n",
        "  min_aic=9999999\n",
        "  min_order=(0,0,0)\n",
        "  for o in pdq:\n",
        "    try:\n",
        "      model_arima = ARIMA(data, order=o)\n",
        "      model_arima_fit=model_arima.fit()\n",
        "      fit_aic = model_arima_fit.aic\n",
        "      if verbose: print(o, fit_aic)\n",
        "      if not np.isnan(fit_aic):\n",
        "        if min_aic>fit_aic:\n",
        "          min_aic = fit_aic\n",
        "          min_order=o\n",
        "      aic_pair.update({o, rmodel_arima_fit.aic})\n",
        "    except:\n",
        "      continue\n",
        "  return min_order"
      ]
    },
    {
      "cell_type": "code",
      "execution_count": null,
      "metadata": {
        "colab": {
          "base_uri": "https://localhost:8080/"
        },
        "id": "FTIf-zQubGfM",
        "outputId": "a7f48c43-23c2-43fa-b873-b7232d6b3d10"
      },
      "outputs": [],
      "source": [
        "arima_order(X, order=4)"
      ]
    },
    {
      "cell_type": "code",
      "execution_count": null,
      "metadata": {
        "id": "23_GnoGhxx-J"
      },
      "outputs": [],
      "source": [
        "model_arima = ARIMA(X_train, order=(2, 0, 2))\n",
        "model_arima_fit=model_arima.fit()"
      ]
    },
    {
      "cell_type": "markdown",
      "metadata": {
        "id": "i4WGf1aJbihQ"
      },
      "source": [
        "## Make Predictions with ARIMA Model"
      ]
    },
    {
      "cell_type": "markdown",
      "metadata": {
        "id": "hm9Yns3Ob0pi"
      },
      "source": [
        "### Prediction for the stationary component"
      ]
    },
    {
      "cell_type": "code",
      "execution_count": null,
      "metadata": {
        "colab": {
          "base_uri": "https://localhost:8080/",
          "height": 284
        },
        "id": "D1UNyP-30cA-",
        "outputId": "bac02fe0-ce71-4e07-dd0b-4d32a521d1f1"
      },
      "outputs": [],
      "source": [
        "n_pred = 100 # Lead time, or forecasting horizon -- the number of steps ahead for out of sample forecast \n",
        "pred_array, se_array, CI_array = model_arima_fit.forecast(steps=n_pred,alpha=0.03) # alpha: confidence level\n",
        "plt.figure(figsize=(12,4))\n",
        "pred_array_index = range(40319, 40419)\n",
        "plt.plot(pred_array_index, X_test[:100])\n",
        "plt.plot(pred_array_index, pred_array, color = \"red\")\n",
        "plt.fill_between(pred_array_index, CI_array[:,0], CI_array[:,1], color = \"k\", alpha = .03 )\n",
        "plt.title('Forecast of the simulated data')\n",
        "plt.show()"
      ]
    },
    {
      "cell_type": "markdown",
      "metadata": {
        "id": "KFp5QLxTae-e"
      },
      "source": [
        "### Inverse Difference\n",
        "Remember that we did differencing once, so we will need to reverse that operation. The following function is to reverse a differenced time series."
      ]
    },
    {
      "cell_type": "code",
      "execution_count": null,
      "metadata": {
        "id": "UVgTbOmlKL0b"
      },
      "outputs": [],
      "source": [
        "def inverse_difference(h, x, interval=1):\n",
        "\treturn x + h[-interval]"
      ]
    },
    {
      "cell_type": "markdown",
      "metadata": {
        "id": "aj_yjP7gcNu3"
      },
      "source": [
        "### Make predictions"
      ]
    },
    {
      "cell_type": "code",
      "execution_count": null,
      "metadata": {
        "colab": {
          "base_uri": "https://localhost:8080/"
        },
        "id": "E3780PVocI6Z",
        "outputId": "bd03b85b-06a1-4634-f45d-3f0ae5f29fd7"
      },
      "outputs": [],
      "source": [
        "history = [x for x in X]\n",
        "day =1\n",
        "forecast = model_arima_fit.forecast(steps=30)[0]\n",
        "for y in forecast:\n",
        "\tinverted = inverse_difference(history, y)\n",
        "\tprint('Day %d: %6.2f' % (day, inverted))\n",
        "\thistory.append(inverted)\n",
        "\tday += 1"
      ]
    }
  ],
  "metadata": {
    "colab": {
      "provenance": [],
      "toc_visible": true
    },
    "kernelspec": {
      "display_name": "tensorflow-apple-sillicon",
      "language": "python",
      "name": "python3"
    },
    "language_info": {
      "codemirror_mode": {
        "name": "ipython",
        "version": 3
      },
      "file_extension": ".py",
      "mimetype": "text/x-python",
      "name": "python",
      "nbconvert_exporter": "python",
      "pygments_lexer": "ipython3",
      "version": "3.9.15"
    },
    "vscode": {
      "interpreter": {
        "hash": "6038a99827bc0937dc1a04b662e99bd5e97a57d601faa9d169aec452a17053e6"
      }
    }
  },
  "nbformat": 4,
  "nbformat_minor": 0
}
