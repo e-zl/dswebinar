{
  "cells": [
    {
      "attachments": {},
      "cell_type": "markdown",
      "metadata": {
        "id": "FcI7yYsGrrIO"
      },
      "source": [
        "# Time Series Analysis - Component Decomposition\n",
        "\n",
        "[Enrique Z. Losoya](https://orcid.org/0000-0001-7763-3349) and [Jian Tao](https://orcid.org/0000-0003-4228-6089), Texas A&M University.\n",
        "\n",
        "Updated: Jan. 2, 2023.\n",
        "  \n",
        "In this notebook, we will create a time series and then decompose it into major components, which are helpful in understanding the basic structure of the time series. Such a decomposition is also helpful in building more advanced forecasting models."
      ]
    },
    {
      "cell_type": "code",
      "execution_count": null,
      "metadata": {
        "id": "qSTrhid9n30K"
      },
      "outputs": [],
      "source": [
        "# import pandas, numpy and seaborn. sns.set() will set multiple theme parameters in one step for seaborn\n",
        "import pandas as pd\n",
        "import matplotlib.pyplot as plt\n",
        "import numpy as np\n",
        "import seaborn as sns\n",
        "sns.set()"
      ]
    },
    {
      "cell_type": "markdown",
      "metadata": {
        "id": "QmYsQzM6sEuD"
      },
      "source": [
        "### Major Components of a Time Series\n",
        "\n",
        "1. **Level** is the baseline value of a time series (mean value).\n",
        "2. **Cycle** is rises and falls that are not of fixed period\n",
        "3. **Trend** is the smooth long term tendency (level and cycle are usually treated as part of the trend).\n",
        "4. **Seasonality** or Periodicity is the repeating patterns\n",
        "5. **Noise** is the variability of the data\n",
        "\n",
        "\n",
        "\n"
      ]
    },
    {
      "cell_type": "markdown",
      "metadata": {
        "id": "QyjD28mb63_S"
      },
      "source": [
        "### A Time Series with Known Components"
      ]
    },
    {
      "cell_type": "markdown",
      "metadata": {
        "id": "1xCvZ2Qzulxr"
      },
      "source": [
        "Let's create a time series with the following function:\n",
        "\n",
        "$X_t = X(t)\\approx2t+t\\cdot sin(t^{2})+3\\sin \\left(20t\\right)+2\\,random\\left(0,1\\right)$\n",
        "\n",
        "$trend = 2t + t\\cdot sin(t^{2})$\n",
        "\n",
        "$seasonality = 3\\sin \\left(20t\\right)$\n",
        "\n",
        "$noise = 2\\,random\\left(0,1\\right)$\n"
      ]
    },
    {
      "cell_type": "code",
      "execution_count": null,
      "metadata": {
        "id": "v5cPL1jen30L"
      },
      "outputs": [],
      "source": [
        "t=np.linspace(-1, 5, num=500)\n",
        "f_trend=2.0*t + t*np.sin(t**2)\n",
        "f_seasonality=3*np.sin(20*t)\n",
        "f_noise=2*np.random.randn(len(t))\n",
        "f_final = f_trend + f_seasonality + f_noise\n",
        "df= pd.DataFrame({\"t\": t,\n",
        "                  \"X\": f_final,\n",
        "                  \"Trend\" : f_trend,\n",
        "                  \"Seasonality\": f_seasonality,\n",
        "                  \"Noise\": f_noise\n",
        "                  })"
      ]
    },
    {
      "cell_type": "code",
      "execution_count": null,
      "metadata": {
        "colab": {
          "base_uri": "https://localhost:8080/",
          "height": 421
        },
        "id": "JWG-PYnsOCfR",
        "outputId": "870cb280-eb6b-4806-a67c-75f8a4200841"
      },
      "outputs": [],
      "source": [
        "df"
      ]
    },
    {
      "cell_type": "code",
      "execution_count": null,
      "metadata": {
        "colab": {
          "base_uri": "https://localhost:8080/",
          "height": 285
        },
        "id": "MVtL2ZdfPSQZ",
        "outputId": "4e703ad4-ff4b-4c01-e426-3b71a31a36d2"
      },
      "outputs": [],
      "source": [
        "df[\"Seasonality\"].hist()"
      ]
    },
    {
      "cell_type": "code",
      "execution_count": null,
      "metadata": {
        "colab": {
          "base_uri": "https://localhost:8080/",
          "height": 920
        },
        "id": "K--bCDL2oiJW",
        "outputId": "e8ec524a-d1f8-431f-ba26-f45c760f197d"
      },
      "outputs": [],
      "source": [
        "# pairplot a very powerful plotting tool to study the relationship between variables.\n",
        "# this pair plot contains a lot of information about this time series. \n",
        "# You can uncomment the following statement and run to check out the pairplot \n",
        "# of different components.\n",
        "\n",
        "sns.pairplot(data=df)"
      ]
    },
    {
      "cell_type": "markdown",
      "metadata": {
        "id": "JGxPo0yc6luk"
      },
      "source": [
        "Let's plot out the time series and the \"components\" we used to create it."
      ]
    },
    {
      "cell_type": "code",
      "execution_count": null,
      "metadata": {
        "colab": {
          "base_uri": "https://localhost:8080/",
          "height": 883
        },
        "id": "1bBobP85n30M",
        "outputId": "2d866b3f-7134-4db5-b264-50c77179522e"
      },
      "outputs": [],
      "source": [
        "fig, axes = plt.subplots(5,1, figsize=(15, 15))\n",
        "sns.lineplot(x='t', y='X', data=df, ax=axes[0])\n",
        "sns.lineplot(x='t', y='Trend', data=df, ax=axes[1])\n",
        "sns.lineplot(x='t', y='Seasonality', data=df, ax=axes[2])\n",
        "sns.scatterplot(x='t', y='Noise', data=df, ax=axes[3])\n",
        "\n",
        "sns.set(rc={'figure.figsize':(12,6)})\n",
        "sns.lineplot(data=df[[\"Trend\", \"Seasonality\", \"Noise\", \"X\"]], legend=\"full\",lw=1, dashes=False, alpha=0.8, ax=axes[4])\n",
        "# sns_plot.get_figure().savefig(\"components.png\")"
      ]
    },
    {
      "cell_type": "markdown",
      "metadata": {
        "id": "-1AkU6t96z21"
      },
      "source": [
        "### Decomposition with statsmodels Module\n",
        "\n",
        "The seasonal_decompose() method comes with the statsmodels module takes 6 parameters. The model type parameter can either be **additive** or **multiplicative**. If the seasonality’s amplitude is independent of the mean of the time series then the additive model should be used, otherise use the multiplicative model.\n",
        "\n",
        "The parameter `freq` is replace with `period` in the latest version of statsmodels. Both of them indicates the periodic property of your time series, it is usually recommended to try out different frequencies or periods to explore a good range for real world data sets. In this example, we choose `freq=26`, which is actually the frequency of the seasonality component we used to construct the time series. You can try different frequencies to see how the decomposed components will look different.\n"
      ]
    },
    {
      "cell_type": "code",
      "execution_count": null,
      "metadata": {
        "id": "ej4-ZTlMn30N"
      },
      "outputs": [],
      "source": [
        "from statsmodels.tsa.seasonal import seasonal_decompose\n",
        "result = seasonal_decompose(df['X'], freq=26, model='additive')"
      ]
    },
    {
      "cell_type": "markdown",
      "metadata": {
        "id": "zWgBtb2IG5rY"
      },
      "source": [
        "The results could be directly plotted with the plot method."
      ]
    },
    {
      "cell_type": "code",
      "execution_count": null,
      "metadata": {
        "colab": {
          "base_uri": "https://localhost:8080/",
          "height": 869
        },
        "id": "eTmVYLMpn30N",
        "outputId": "d071f6b2-9a16-4772-a977-58fc3209ecc9"
      },
      "outputs": [],
      "source": [
        "# enlarge the figure to make it easy to see the details.\n",
        "sns.set(rc={'figure.figsize':(12,12)})\n",
        "result.plot();"
      ]
    },
    {
      "cell_type": "markdown",
      "metadata": {
        "id": "qumuaCh6HbQY"
      },
      "source": [
        "Lets' try to compare the component decomposed from the time series against the component we used to construct the time series."
      ]
    },
    {
      "cell_type": "code",
      "execution_count": null,
      "metadata": {
        "colab": {
          "base_uri": "https://localhost:8080/",
          "height": 285
        },
        "id": "5AwmWG3jn30N",
        "outputId": "cfa3bed9-8782-411e-f9f5-86fe6416b19f"
      },
      "outputs": [],
      "source": [
        "plt.figure(figsize=(12,4))\n",
        "#plt.plot(f_seasonality)\n",
        "#plt.plot(df[\"X\"])\n",
        "plt.plot(result.seasonal + result.trend, alpha=0.7)"
      ]
    },
    {
      "cell_type": "markdown",
      "metadata": {
        "id": "tLoPCnC-KW3d"
      },
      "source": [
        "Question: What do you observe for the trend line? Are we able to do a better job to decompose the trend?"
      ]
    },
    {
      "cell_type": "code",
      "execution_count": null,
      "metadata": {
        "colab": {
          "base_uri": "https://localhost:8080/",
          "height": 285
        },
        "id": "5EGCmT1rn30N",
        "outputId": "f1a98e1b-88c2-4acf-963b-196e0ae68b56"
      },
      "outputs": [],
      "source": [
        "plt.figure(figsize=(12,4))\n",
        "plt.plot(f_trend)\n",
        "plt.plot(result.trend)"
      ]
    },
    {
      "cell_type": "code",
      "execution_count": null,
      "metadata": {
        "colab": {
          "base_uri": "https://localhost:8080/",
          "height": 285
        },
        "id": "bHh5kcTHn30N",
        "outputId": "9ecf1db0-f488-4bf6-9c9d-821d47ab2655"
      },
      "outputs": [],
      "source": [
        "plt.figure(figsize=(10,4))\n",
        "plt.plot(f_noise)\n",
        "plt.plot(result.resid)"
      ]
    },
    {
      "cell_type": "code",
      "execution_count": null,
      "metadata": {
        "colab": {
          "base_uri": "https://localhost:8080/"
        },
        "id": "-eDrCaO-n30N",
        "outputId": "76a94bb3-69ab-4644-e2dc-9fac8bd59067"
      },
      "outputs": [],
      "source": [
        "np.mean(f_noise)"
      ]
    },
    {
      "cell_type": "code",
      "execution_count": null,
      "metadata": {
        "colab": {
          "base_uri": "https://localhost:8080/"
        },
        "id": "o9xnEKbjn30N",
        "outputId": "257f7d35-20dd-444b-bc40-3a634f6ba6d0"
      },
      "outputs": [],
      "source": [
        "np.mean(result.resid)"
      ]
    },
    {
      "cell_type": "code",
      "execution_count": null,
      "metadata": {
        "colab": {
          "base_uri": "https://localhost:8080/"
        },
        "id": "78_TvlLon30N",
        "outputId": "9bce27e0-7e0c-412f-d748-be714b23e62f"
      },
      "outputs": [],
      "source": [
        "np.abs(np.std(f_noise)-np.std(result.resid))/np.std(f_noise)"
      ]
    },
    {
      "cell_type": "markdown",
      "metadata": {
        "id": "OvujcFUoKrxB"
      },
      "source": [
        "It is clear that the decomposed residual falls into a normal distribution, which matches with what was used to generate the time series."
      ]
    },
    {
      "cell_type": "code",
      "execution_count": null,
      "metadata": {
        "colab": {
          "base_uri": "https://localhost:8080/",
          "height": 408
        },
        "id": "LxOEzjhgn30N",
        "outputId": "968ed398-a221-470d-a029-180d4eec4424"
      },
      "outputs": [],
      "source": [
        "plt.figure(figsize=(5,5))\n",
        "plt.hist(f_noise, alpha=0.6)\n",
        "plt.hist(result.resid, alpha=0.3, color=\"r\")"
      ]
    },
    {
      "cell_type": "markdown",
      "metadata": {
        "id": "yOGvmuJ6LsbD"
      },
      "source": [
        "### Detrend a Time Series\n",
        "Detrend a time series will make it stationary, which is usually a required condition for constructing time series forecasting models. The resulting series will contain seasonality and noise only."
      ]
    },
    {
      "cell_type": "code",
      "execution_count": null,
      "metadata": {
        "id": "8XjYw4Ntn30N"
      },
      "outputs": [],
      "source": [
        "df[\"detrend\"] = df[\"X\"] - result.trend\n",
        "df[\"stationary\"] = df[\"X\"] - result.trend - result.seasonal"
      ]
    },
    {
      "cell_type": "code",
      "execution_count": null,
      "metadata": {
        "colab": {
          "base_uri": "https://localhost:8080/",
          "height": 339
        },
        "id": "GP0rbJSDLZjE",
        "outputId": "3d6ef8fc-7c45-449e-8d4d-f395db35c6c6"
      },
      "outputs": [],
      "source": [
        "df[\"stationary\"].plot(figsize=(10,5))"
      ]
    },
    {
      "cell_type": "code",
      "execution_count": null,
      "metadata": {
        "id": "hoo6dmgUTVfY"
      },
      "outputs": [],
      "source": []
    }
  ],
  "metadata": {
    "colab": {
      "provenance": []
    },
    "kernelspec": {
      "display_name": "tensorflow-apple-sillicon",
      "language": "python",
      "name": "python3"
    },
    "language_info": {
      "codemirror_mode": {
        "name": "ipython",
        "version": 3
      },
      "file_extension": ".py",
      "mimetype": "text/x-python",
      "name": "python",
      "nbconvert_exporter": "python",
      "pygments_lexer": "ipython3",
      "version": "3.9.15"
    },
    "vscode": {
      "interpreter": {
        "hash": "6038a99827bc0937dc1a04b662e99bd5e97a57d601faa9d169aec452a17053e6"
      }
    }
  },
  "nbformat": 4,
  "nbformat_minor": 0
}
