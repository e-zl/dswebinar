{
 "cells": [
  {
   "attachments": {},
   "cell_type": "markdown",
   "metadata": {},
   "source": [
    "# Reproduce the normal distribution figure from the lecture"
   ]
  },
  {
   "cell_type": "markdown",
   "metadata": {},
   "source": [
    "We want to reproduce this image from the [wikipedia page](https://en.wikipedia.org/wiki/Gaussian_distribution) on normal distribution"
   ]
  },
  {
   "cell_type": "code",
   "execution_count": null,
   "metadata": {},
   "outputs": [],
   "source": [
    "# This line configures matplotlib to show figures embedded in the notebook, \n",
    "# instead of opening a new window for each figure. More about that later. \n",
    "# If you are using an old version of IPython, try using '%pylab inline' instead.\n",
    "%matplotlib inline"
   ]
  },
  {
   "cell_type": "code",
   "execution_count": null,
   "metadata": {},
   "outputs": [],
   "source": [
    "import matplotlib.pyplot as plt\n",
    "from matplotlib.ticker import MultipleLocator, FormatStrFormatter, AutoMinorLocator\n",
    "import numpy as np"
   ]
  },
  {
   "cell_type": "code",
   "execution_count": null,
   "metadata": {},
   "outputs": [],
   "source": [
    "# define the funciton\n",
    "def f(x, mu, s2):\n",
    "    return 1/np.sqrt(2*np.pi*s2)*np.exp(-(x-mu)**2/2/s2)"
   ]
  },
  {
   "cell_type": "code",
   "execution_count": null,
   "metadata": {},
   "outputs": [],
   "source": [
    "x = np.linspace(-5, 5, 1000)\n",
    "\n",
    "fig = plt.figure(figsize=(30,5))\n",
    "\n",
    "axes = fig.add_axes([0.2, 0.2, 0.2, 0.8]) # left, bottom, width, height (range 0 to 1)\n",
    "axes.legend([\"$\\mu=0, \\sigma^2=0.2$\", \"$\\mu=0, \\sigma^2=1.0$\", \"$\\mu=0, \\sigma^2=5.0$\", \"$\\mu=-2, \\sigma^2=0.5$\"]);\n",
    "axes.plot(x, f(x, 0, 0.2), 'b', label=\"$\\mu=0, \\sigma^2=0.2$\")\n",
    "axes.plot(x, f(x, 0, 1.0), 'r', label=\"$\\mu=0, \\sigma^2=1.0$\")\n",
    "axes.plot(x, f(x, 0, 5.0), 'orange', label=\"$\\mu=0, \\sigma^2=5.0$\")\n",
    "axes.plot(x, f(x, -2, 0.5), 'g', label=\"$\\mu=-2, \\sigma^2=0.5$\")\n",
    "axes.legend(markerfirst=False)   \n",
    "axes.set_xlabel('$X$')\n",
    "axes.set_ylabel('$\\phi_{\\mu, \\sigma^2}(X)$')\n",
    "plt.yticks(np.arange(0, 1.2, 0.2)) \n",
    "plt.xticks(np.arange(-5, 6, 1)) \n",
    "axes.xaxis.set_minor_locator(AutoMinorLocator())\n",
    "axes.yaxis.set_minor_locator(AutoMinorLocator())\n",
    "axes.tick_params(which='minor', length=4, color='b')\n",
    "axes.set_title('');\n",
    "axes.grid(color='b', alpha=0.5, linestyle='dashed', linewidth=0.2)\n",
    "plt.axis('on')\n",
    "plt.grid('b=None')\n",
    "\n",
    "#plt.savefig(\"myndplot.svg\") uncomment to save the plot as a svg file"
   ]
  }
 ],
 "metadata": {
  "kernelspec": {
   "display_name": "Python 3",
   "language": "python",
   "name": "python3"
  },
  "language_info": {
   "codemirror_mode": {
    "name": "ipython",
    "version": 3
   },
   "file_extension": ".py",
   "mimetype": "text/x-python",
   "name": "python",
   "nbconvert_exporter": "python",
   "pygments_lexer": "ipython3",
   "version": "3.11.1 (main, Dec 23 2022, 09:28:24) [Clang 14.0.0 (clang-1400.0.29.202)]"
  },
  "vscode": {
   "interpreter": {
    "hash": "5c7b89af1651d0b8571dde13640ecdccf7d5a6204171d6ab33e7c296e100e08a"
   }
  }
 },
 "nbformat": 4,
 "nbformat_minor": 4
}
