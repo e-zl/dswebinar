{
  "nbformat": 4,
  "nbformat_minor": 0,
  "metadata": {
    "kernelspec": {
      "display_name": "Python 3",
      "language": "python",
      "name": "python3"
    },
    "language_info": {
      "codemirror_mode": {
        "name": "ipython",
        "version": 3
      },
      "file_extension": ".py",
      "mimetype": "text/x-python",
      "name": "python",
      "nbconvert_exporter": "python",
      "pygments_lexer": "ipython3",
      "version": "3.7.7"
    },
    "colab": {
      "name": "keras_mnist.ipynb",
      "provenance": [],
      "toc_visible": true
    }
  },
  "cells": [
    {
      "cell_type": "markdown",
      "metadata": {
        "id": "--L0MXo0nT0i"
      },
      "source": [
        "# Classify Handwritten-Digits with Keras\n",
        "[Jian Tao](https://coehpc.engr.tamu.edu/people/jian-tao/), Texas A&M University\n",
        "\n",
        "Oct 21, 2019\n",
        "\n",
        "Modified from the TensorFlow 1.x example."
      ]
    },
    {
      "cell_type": "code",
      "metadata": {
        "id": "hIco2r2xnT0j"
      },
      "source": [
        "%load_ext tensorboard\n",
        "from tensorflow.keras import utils, callbacks, models\n",
        "from tensorflow.keras.datasets import mnist\n",
        "from tensorflow.keras.models import Sequential\n",
        "from tensorflow.keras.layers import Dense,Flatten\n",
        "import matplotlib.pyplot as plt\n",
        "import numpy as np\n",
        "import os, datetime"
      ],
      "execution_count": null,
      "outputs": []
    },
    {
      "cell_type": "code",
      "metadata": {
        "id": "QB3w0GaRnT0j"
      },
      "source": [
        "(X_train, y_train), (X_test, y_test) = mnist.load_data()"
      ],
      "execution_count": null,
      "outputs": []
    },
    {
      "cell_type": "code",
      "metadata": {
        "id": "vDZGlIuEnT0j"
      },
      "source": [
        "# show the first image in the data set\n",
        "plt.imshow(X_train[0], cmap=\"gray\") # Import the image\n",
        "plt.show() # Plot the image"
      ],
      "execution_count": null,
      "outputs": []
    },
    {
      "cell_type": "code",
      "metadata": {
        "id": "fi9bhUOjnT0k"
      },
      "source": [
        "# show the first 15 images in the data set.\n",
        "fig = plt.figure()\n",
        "for i in range(15):\n",
        "    plt.subplot(3,5,i+1)\n",
        "    plt.tight_layout()\n",
        "    plt.imshow(X_train[i], cmap='gray', interpolation='none')\n",
        "    plt.title(\"Digit: {}\".format(y_train[i]))\n",
        "    plt.xticks([])\n",
        "    plt.yticks([])"
      ],
      "execution_count": null,
      "outputs": []
    },
    {
      "cell_type": "code",
      "metadata": {
        "id": "K31OzkMcnT0l"
      },
      "source": [
        "# Normalize the train dataset\n",
        "X_train = utils.normalize(X_train, axis=1)\n",
        "# Normalize the test dataset\n",
        "X_test = utils.normalize(X_test, axis=1)"
      ],
      "execution_count": null,
      "outputs": []
    },
    {
      "cell_type": "code",
      "metadata": {
        "id": "5xeW92T0nT0l"
      },
      "source": [
        "#Build the model object\n",
        "model = Sequential()\n",
        "# Add the Flatten Layer\n",
        "model.add(Flatten())\n",
        "# Build the input and the hidden layers\n",
        "model.add(Dense(128, activation='relu'))\n",
        "model.add(Dense(128, activation='relu'))\n",
        "# Build the output layer\n",
        "model.add(Dense(10, activation='softmax'))"
      ],
      "execution_count": null,
      "outputs": []
    },
    {
      "cell_type": "code",
      "metadata": {
        "id": "AV9YhficnT0l"
      },
      "source": [
        "# Compile the model\n",
        "model.compile(optimizer=\"adam\", loss=\"sparse_categorical_crossentropy\", metrics=[\"accuracy\"])"
      ],
      "execution_count": null,
      "outputs": []
    },
    {
      "cell_type": "code",
      "metadata": {
        "id": "YgQ3wMbXnT0l"
      },
      "source": [
        "# This is needed for loading Tensorboard.\n",
        "tensorboard_callback = callbacks.TensorBoard(log_dir=\"logs\", histogram_freq=1)"
      ],
      "execution_count": null,
      "outputs": []
    },
    {
      "cell_type": "code",
      "metadata": {
        "id": "08OroKJenT0l"
      },
      "source": [
        "model.fit(x=X_train, y=y_train, epochs=10, \n",
        "          validation_data=(X_test, y_test),\n",
        "          callbacks=[tensorboard_callback]) # Start training process"
      ],
      "execution_count": null,
      "outputs": []
    },
    {
      "cell_type": "code",
      "metadata": {
        "id": "bdA4DmQFnT0l"
      },
      "source": [
        "model.summary()"
      ],
      "execution_count": null,
      "outputs": []
    },
    {
      "cell_type": "code",
      "metadata": {
        "id": "fXZfLZ4rnT0l"
      },
      "source": [
        "# Evaluate the model performance\n",
        "test_loss, test_acc = model.evaluate(x=X_test, y=y_test, verbose=0)\n",
        "# Print out the model accuracy \n",
        "print('\\nTest accuracy:', test_acc)"
      ],
      "execution_count": null,
      "outputs": []
    },
    {
      "cell_type": "code",
      "metadata": {
        "id": "-L-YpJqynT0l"
      },
      "source": [
        "# Save model into MNIST.h5 and we are all done with the training now.\n",
        "model.save('MNIST.h5')"
      ],
      "execution_count": null,
      "outputs": []
    },
    {
      "cell_type": "code",
      "metadata": {
        "id": "iuKHEDQ6nT0l"
      },
      "source": [
        "model = models.load_model('MNIST.h5')"
      ],
      "execution_count": null,
      "outputs": []
    },
    {
      "cell_type": "code",
      "metadata": {
        "id": "bg9oe4EOnT0l"
      },
      "source": [
        "predictions = model.predict(X_test)"
      ],
      "execution_count": null,
      "outputs": []
    },
    {
      "cell_type": "code",
      "metadata": {
        "id": "GSSJlZB1nT0l"
      },
      "source": [
        "# function that plots a single image.\n",
        "def test_digit(i):\n",
        "    plt.imshow(X_test[i], interpolation='none')\n",
        "    plt.title(\"digit:%d   prediction: %d\" %(y_test[i], np.argmax(predictions[i])))\n",
        "    plt.xticks([])\n",
        "    plt.yticks([])"
      ],
      "execution_count": null,
      "outputs": []
    },
    {
      "cell_type": "code",
      "metadata": {
        "id": "qP0zWbnXnT0l"
      },
      "source": [
        "# let's output the images which were not predicted correctly.\n",
        "for i in range(len(X_test)):\n",
        "    if np.argmax(predictions[i]) != y_test[i]:\n",
        "        test_digit(i)"
      ],
      "execution_count": null,
      "outputs": []
    },
    {
      "cell_type": "code",
      "metadata": {
        "id": "VQr2tvtAoEBm"
      },
      "source": [
        "# uncomment the following statement to run tensorboard on Google Colab.\n",
        "#%tensorboard --logdir  logs\n",
        "\n",
        "# uncomment the following statement to run on Jupyter\n",
        "#!tensorboard --logdir=\"./logs\""
      ],
      "execution_count": null,
      "outputs": []
    }
  ]
}