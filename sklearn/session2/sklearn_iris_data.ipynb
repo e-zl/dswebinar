{
  "nbformat": 4,
  "nbformat_minor": 0,
  "metadata": {
    "kernelspec": {
      "display_name": "Python 3",
      "language": "python",
      "name": "python3"
    },
    "language_info": {
      "codemirror_mode": {
        "name": "ipython",
        "version": 3
      },
      "file_extension": ".py",
      "mimetype": "text/x-python",
      "name": "python",
      "nbconvert_exporter": "python",
      "pygments_lexer": "ipython3",
      "version": "3.7.4"
    },
    "colab": {
      "name": "sklearn_iris_data.ipynb",
      "provenance": []
    }
  },
  "cells": [
    {
      "cell_type": "markdown",
      "metadata": {
        "id": "ZGEQoSCMInEf",
        "colab_type": "text"
      },
      "source": [
        "# Machine Learning with scikit-learn\n",
        "[Jian Tao](https://coehpc.engr.tamu.edu/people/jian-tao/), Texas A&M University\n",
        "\n",
        "Oct 24, 2019"
      ]
    },
    {
      "cell_type": "markdown",
      "metadata": {
        "id": "NnDhMPruInEg",
        "colab_type": "text"
      },
      "source": [
        "We will explore the Iris Data set again with scikit-learn, which contains a clean copy of the Iris data set.\n",
        "<img src=\"https://github.com/jtao/dswebinar/blob/master/sklearn/session2/images/petal_sepal.jpg?raw=1\" />"
      ]
    },
    {
      "cell_type": "markdown",
      "metadata": {
        "id": "OUmgO1S3InEg",
        "colab_type": "text"
      },
      "source": [
        "### Import modules, load the Iris data set, and prepare the data set for training"
      ]
    },
    {
      "cell_type": "code",
      "metadata": {
        "id": "pKKDHn2tInEh",
        "colab_type": "code",
        "colab": {}
      },
      "source": [
        "%matplotlib inline\n",
        "import matplotlib.pyplot as plt\n",
        "import numpy as np\n",
        "import pandas as pd\n",
        "import seaborn as sns\n",
        "from sklearn import datasets"
      ],
      "execution_count": 0,
      "outputs": []
    },
    {
      "cell_type": "code",
      "metadata": {
        "id": "tgq66nDDInEj",
        "colab_type": "code",
        "colab": {}
      },
      "source": [
        "# load the data set\n",
        "iris = datasets.load_iris()\n",
        "n_samples, n_features = iris.data.shape\n",
        "print(iris.keys())\n",
        "print((n_samples, n_features))\n",
        "print(iris.data.shape)\n",
        "print(iris.target.shape)\n",
        "print(iris.target_names)\n",
        "print(iris.feature_names)\n",
        "X, y = iris.data, iris.target"
      ],
      "execution_count": 0,
      "outputs": []
    },
    {
      "cell_type": "code",
      "metadata": {
        "id": "32jF_jVaNz4q",
        "colab_type": "code",
        "colab": {}
      },
      "source": [
        "df=pd.DataFrame(data= np.c_[iris['data'], iris['target']],\n",
        "                columns= iris['feature_names'] + ['target'])"
      ],
      "execution_count": 0,
      "outputs": []
    },
    {
      "cell_type": "code",
      "metadata": {
        "id": "gUEIjTe8Oeos",
        "colab_type": "code",
        "colab": {}
      },
      "source": [
        "df.head()"
      ],
      "execution_count": 0,
      "outputs": []
    },
    {
      "cell_type": "code",
      "metadata": {
        "id": "STE8ST_1T0aF",
        "colab_type": "code",
        "colab": {}
      },
      "source": [
        "df.info()"
      ],
      "execution_count": 0,
      "outputs": []
    },
    {
      "cell_type": "code",
      "metadata": {
        "id": "0W0Zf-93PmbF",
        "colab_type": "code",
        "colab": {}
      },
      "source": [
        "#df = df.drop(['target'], axis=1)\n",
        "sns.pairplot(df, kind=\"scatter\");"
      ],
      "execution_count": 0,
      "outputs": []
    },
    {
      "cell_type": "code",
      "metadata": {
        "id": "CDHbMF-bT59M",
        "colab_type": "code",
        "colab": {}
      },
      "source": [
        "df.corr()"
      ],
      "execution_count": 0,
      "outputs": []
    },
    {
      "cell_type": "code",
      "metadata": {
        "id": "rQcJvwv3VCEm",
        "colab_type": "code",
        "colab": {}
      },
      "source": [
        "sns.heatmap(df.corr(), annot=True, fmt=\".3f\");"
      ],
      "execution_count": 0,
      "outputs": []
    },
    {
      "cell_type": "code",
      "metadata": {
        "id": "U09z3qgCInEl",
        "colab_type": "code",
        "colab": {}
      },
      "source": [
        "#split the data into training and test datasets\n",
        "from sklearn.model_selection import train_test_split\n",
        "X_train, X_test, y_train, y_test = train_test_split(X, y, test_size=0.3, random_state=0)"
      ],
      "execution_count": 0,
      "outputs": []
    },
    {
      "cell_type": "code",
      "metadata": {
        "id": "m7-GBXTgInEn",
        "colab_type": "code",
        "colab": {}
      },
      "source": [
        "# scale the train data\n",
        "from sklearn.preprocessing import StandardScaler\n",
        "sc = StandardScaler()\n",
        "sc.fit(X_train)\n",
        "\n",
        "X_train_std = sc.transform(X_train)\n",
        "X_test_std = sc.transform(X_test)\n",
        "\n",
        "X_combined_std = np.vstack((X_train_std, X_test_std))\n",
        "y_combined = np.hstack((y_train, y_test))"
      ],
      "execution_count": 0,
      "outputs": []
    },
    {
      "cell_type": "markdown",
      "metadata": {
        "id": "MrMU6UjAInEp",
        "colab_type": "text"
      },
      "source": [
        "### Classification - Perceptron \n",
        "The Perceptron is another simple binary classification algorithm suitable for large scale learning. By default:\n",
        "\n",
        "It does not require a learning rate.\n",
        "It is not regularized (penalized).\n",
        "It updates its model only on mistakes.\n",
        "The last characteristic implies that the Perceptron is slightly faster to train than SGD with the hinge loss and that the resulting models are sparser."
      ]
    },
    {
      "cell_type": "code",
      "metadata": {
        "scrolled": true,
        "id": "HYN8ZWZOInEp",
        "colab_type": "code",
        "colab": {}
      },
      "source": [
        "from sklearn.linear_model import Perceptron\n",
        "ppn = Perceptron(max_iter=40, eta0=0.1, random_state=0)\n",
        "ppn.fit(X_train_std, y_train)\n",
        "y_pred = ppn.predict(X_test_std)\n",
        "print('Misclassfied samples: %d' % (y_test != y_pred).sum())"
      ],
      "execution_count": 0,
      "outputs": []
    },
    {
      "cell_type": "code",
      "metadata": {
        "id": "rj86cqF0InEr",
        "colab_type": "code",
        "colab": {}
      },
      "source": [
        "from sklearn.metrics import accuracy_score\n",
        "print ('Accuracy: %.2f' % accuracy_score(y_test, y_pred))"
      ],
      "execution_count": 0,
      "outputs": []
    },
    {
      "cell_type": "markdown",
      "metadata": {
        "id": "ryb3Y-4XInEt",
        "colab_type": "text"
      },
      "source": [
        "### Classification - Supporting-vector classifier"
      ]
    },
    {
      "cell_type": "code",
      "metadata": {
        "id": "pmtvpYPyInEu",
        "colab_type": "code",
        "colab": {}
      },
      "source": [
        "from sklearn.svm import SVC\n",
        "\n",
        "svm = SVC(kernel='linear')\n",
        "svm.fit(X_train_std, y_train)\n",
        "\n",
        "print('The accuracy of the svm classifier on training data is {:.2f} out of 1'.format(svm.score(X_train_std, y_train)))\n",
        "\n",
        "print('The accuracy of the svm classifier on test data is {:.2f} out of 1'.format(svm.score(X_test_std, y_test)))"
      ],
      "execution_count": 0,
      "outputs": []
    },
    {
      "cell_type": "code",
      "metadata": {
        "id": "sIA3xU-PInEv",
        "colab_type": "code",
        "colab": {}
      },
      "source": [
        "from sklearn.neighbors import KNeighborsClassifier\n",
        "\n",
        "knn = KNeighborsClassifier(n_neighbors=5, p=2, metric='minkowski')\n",
        "knn.fit(X_train_std, y_train)\n",
        "\n",
        "print('The accuracy of the knn classifier is {:.2f} out of 1 on training data'.format(knn.score(X_train_std, y_train)))\n",
        "print('The accuracy of the knn classifier is {:.2f} out of 1 on test data'.format(knn.score(X_test_std, y_test)))"
      ],
      "execution_count": 0,
      "outputs": []
    }
  ]
}