{
  "cells": [
    {
      "attachments": {},
      "cell_type": "markdown",
      "metadata": {
        "id": "EBTsvnfcVf6W"
      },
      "source": [
        "# Machine Learning with scikit-learn - Regression Leanring\n",
        "\n",
        "[Jian Tao](https://coehpc.engr.tamu.edu/people/jian-tao/), and [Enrique Z. Losoya](https://orcid.org/0000-0001-7763-3349), Texas A&M University. \n",
        "\n",
        "Updated: January 2, 2023."
      ]
    },
    {
      "cell_type": "code",
      "execution_count": null,
      "metadata": {
        "id": "rfsv7YnFVwFa"
      },
      "outputs": [],
      "source": [
        "import pandas as pd\n",
        "import numpy as np\n",
        "import matplotlib.pyplot as plt\n",
        "from sklearn import datasets\n",
        "import seaborn as sns    \n",
        "# sns.set()\n",
        "import os"
      ]
    },
    {
      "cell_type": "markdown",
      "metadata": {
        "id": "oK2zK6Fvd3Nm"
      },
      "source": [
        "## Frist of all, load the data"
      ]
    },
    {
      "cell_type": "code",
      "execution_count": null,
      "metadata": {
        "id": "W5IoQpncd3Nm"
      },
      "outputs": [],
      "source": [
        "diabetes = datasets.load_diabetes()\n",
        "\n",
        "# load data into a Pandas DataFrame when you need to do EDA.\n",
        "df = pd.DataFrame(diabetes.data, columns=diabetes.feature_names)\n",
        "df[\"target\"] = diabetes.target"
      ]
    },
    {
      "cell_type": "code",
      "execution_count": null,
      "metadata": {
        "id": "c3b-3lOrd3Nm"
      },
      "outputs": [],
      "source": [
        "df = pd.DataFrame(diabetes.data, columns=diabetes.feature_names)\n",
        "df[\"target\"] = diabetes.target # only for plot the first figure."
      ]
    },
    {
      "cell_type": "code",
      "execution_count": null,
      "metadata": {
        "colab": {
          "base_uri": "https://localhost:8080/"
        },
        "id": "z562iHiJWRnV",
        "outputId": "04a694ab-84e9-45b9-d687-fa5210e76cc2"
      },
      "outputs": [],
      "source": [
        "print(diabetes.DESCR)"
      ]
    },
    {
      "cell_type": "code",
      "execution_count": null,
      "metadata": {
        "colab": {
          "base_uri": "https://localhost:8080/",
          "height": 394
        },
        "id": "hpP5fFRgWnsn",
        "outputId": "d57e5c4f-9c79-4323-8d36-065198caba5b"
      },
      "outputs": [],
      "source": [
        "df.describe().T"
      ]
    },
    {
      "cell_type": "code",
      "execution_count": null,
      "metadata": {
        "colab": {
          "base_uri": "https://localhost:8080/"
        },
        "id": "mnbkvu8EWqJv",
        "outputId": "ddc16c13-34b9-4c54-e9ef-bfdd036909d1"
      },
      "outputs": [],
      "source": [
        "df.info()"
      ]
    },
    {
      "cell_type": "code",
      "execution_count": null,
      "metadata": {
        "colab": {
          "base_uri": "https://localhost:8080/",
          "height": 596
        },
        "id": "vCT-tDpwWr6W",
        "outputId": "93c7523b-7c1d-4b9a-d9c6-9298da4ca525"
      },
      "outputs": [],
      "source": [
        "plt.figure(figsize=(15,10))\n",
        "sns.heatmap(df.corr(), annot=True);"
      ]
    },
    {
      "cell_type": "markdown",
      "metadata": {
        "id": "nDiTd4aeWzH1"
      },
      "source": [
        "## Task\n",
        "### Build a multilinear regression model with those 3 features"
      ]
    },
    {
      "cell_type": "code",
      "execution_count": null,
      "metadata": {
        "colab": {
          "base_uri": "https://localhost:8080/"
        },
        "id": "em_g6iymKBEX",
        "outputId": "cf48a281-f5e6-4cb1-cd70-2fdca7e53cea"
      },
      "outputs": [],
      "source": [
        "from sklearn.linear_model import LinearRegression\n",
        "from sklearn.metrics import mean_squared_error, r2_score\n",
        "\n",
        "X = df[['bmi',\"bp\", \"s5\"]]\n",
        "y = df[[\"target\"]]\n",
        "\n",
        "multi_reg = LinearRegression()\n",
        "multi_reg.fit(X, y)\n",
        "\n",
        "y_pred = multi_reg.predict(X)\n",
        "\n",
        "print('Coefficients:', multi_reg.coef_)\n",
        "print('MSE:', mean_squared_error(y, y_pred) )\n",
        "print('R-sq:', r2_score(y, y_pred) )"
      ]
    }
  ],
  "metadata": {
    "colab": {
      "authorship_tag": "ABX9TyMW81PvRsn0LaXxRN+yYg3V",
      "include_colab_link": true,
      "name": "sklearn_diabetes_data",
      "provenance": []
    },
    "kernelspec": {
      "display_name": "Python 3",
      "language": "python",
      "name": "python3"
    },
    "language_info": {
      "name": "python",
      "version": "3.11.1 (main, Dec 23 2022, 09:28:24) [Clang 14.0.0 (clang-1400.0.29.202)]"
    },
    "vscode": {
      "interpreter": {
        "hash": "5c7b89af1651d0b8571dde13640ecdccf7d5a6204171d6ab33e7c296e100e08a"
      }
    }
  },
  "nbformat": 4,
  "nbformat_minor": 0
}
