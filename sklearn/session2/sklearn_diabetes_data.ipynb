{
  "nbformat": 4,
  "nbformat_minor": 0,
  "metadata": {
    "colab": {
      "name": "sklearn_diabetes_data",
      "provenance": [],
      "authorship_tag": "ABX9TyOXZKAo1fdtNuqyQ5ExNkMU",
      "include_colab_link": true
    },
    "kernelspec": {
      "name": "python3",
      "display_name": "Python 3"
    },
    "language_info": {
      "name": "python"
    }
  },
  "cells": [
    {
      "cell_type": "markdown",
      "metadata": {
        "id": "view-in-github",
        "colab_type": "text"
      },
      "source": [
        "<a href=\"https://colab.research.google.com/github/jtao/dswebinar/blob/master/sklearn/session2/sklearn_diabetes_data.ipynb\" target=\"_parent\"><img src=\"https://colab.research.google.com/assets/colab-badge.svg\" alt=\"Open In Colab\"/></a>"
      ]
    },
    {
      "cell_type": "markdown",
      "source": [
        "# Machine Learning with scikit-learn - Regression Leanring\n",
        "\n",
        "[Jian Tao](https://coehpc.engr.tamu.edu/people/jian-tao/), Texas A&M University\n",
        "\n",
        "Aug 11, 2022"
      ],
      "metadata": {
        "id": "EBTsvnfcVf6W"
      }
    },
    {
      "cell_type": "code",
      "source": [
        "import pandas as pd\n",
        "import numpy as np\n",
        "import matplotlib.pyplot as plt\n",
        "from sklearn import datasets\n",
        "import seaborn as sns    \n",
        "sns.set()\n",
        "import os"
      ],
      "metadata": {
        "id": "rfsv7YnFVwFa"
      },
      "execution_count": null,
      "outputs": []
    },
    {
      "cell_type": "markdown",
      "metadata": {
        "id": "oK2zK6Fvd3Nm"
      },
      "source": [
        "## Frist of all, load the data"
      ]
    },
    {
      "cell_type": "code",
      "metadata": {
        "id": "W5IoQpncd3Nm"
      },
      "source": [
        "diabetes = datasets.load_diabetes()\n",
        "\n",
        "# load data into a Pandas DataFrame when you need to do EDA.\n",
        "df = pd.DataFrame(diabetes.data, columns=diabetes.feature_names)\n",
        "df[\"target\"] = diabetes.target"
      ],
      "execution_count": null,
      "outputs": []
    },
    {
      "cell_type": "code",
      "metadata": {
        "id": "c3b-3lOrd3Nm"
      },
      "source": [
        "df = pd.DataFrame(diabetes.data, columns=diabetes.feature_names)\n",
        "df[\"target\"] = diabetes.target # only for plot the first figure."
      ],
      "execution_count": null,
      "outputs": []
    },
    {
      "cell_type": "code",
      "source": [
        "print(diabetes.DESCR)"
      ],
      "metadata": {
        "id": "z562iHiJWRnV",
        "outputId": "59ed2cfb-7ce2-4189-88ff-b0efbb3a112a",
        "colab": {
          "base_uri": "https://localhost:8080/"
        }
      },
      "execution_count": null,
      "outputs": [
        {
          "output_type": "stream",
          "name": "stdout",
          "text": [
            ".. _diabetes_dataset:\n",
            "\n",
            "Diabetes dataset\n",
            "----------------\n",
            "\n",
            "Ten baseline variables, age, sex, body mass index, average blood\n",
            "pressure, and six blood serum measurements were obtained for each of n =\n",
            "442 diabetes patients, as well as the response of interest, a\n",
            "quantitative measure of disease progression one year after baseline.\n",
            "\n",
            "**Data Set Characteristics:**\n",
            "\n",
            "  :Number of Instances: 442\n",
            "\n",
            "  :Number of Attributes: First 10 columns are numeric predictive values\n",
            "\n",
            "  :Target: Column 11 is a quantitative measure of disease progression one year after baseline\n",
            "\n",
            "  :Attribute Information:\n",
            "      - age     age in years\n",
            "      - sex\n",
            "      - bmi     body mass index\n",
            "      - bp      average blood pressure\n",
            "      - s1      tc, total serum cholesterol\n",
            "      - s2      ldl, low-density lipoproteins\n",
            "      - s3      hdl, high-density lipoproteins\n",
            "      - s4      tch, total cholesterol / HDL\n",
            "      - s5      ltg, possibly log of serum triglycerides level\n",
            "      - s6      glu, blood sugar level\n",
            "\n",
            "Note: Each of these 10 feature variables have been mean centered and scaled by the standard deviation times `n_samples` (i.e. the sum of squares of each column totals 1).\n",
            "\n",
            "Source URL:\n",
            "https://www4.stat.ncsu.edu/~boos/var.select/diabetes.html\n",
            "\n",
            "For more information see:\n",
            "Bradley Efron, Trevor Hastie, Iain Johnstone and Robert Tibshirani (2004) \"Least Angle Regression,\" Annals of Statistics (with discussion), 407-499.\n",
            "(https://web.stanford.edu/~hastie/Papers/LARS/LeastAngle_2002.pdf)\n"
          ]
        }
      ]
    },
    {
      "cell_type": "code",
      "source": [
        "df.describe().T"
      ],
      "metadata": {
        "id": "hpP5fFRgWnsn",
        "outputId": "e8a53b44-88bf-40d6-d661-8ec210e4795b",
        "colab": {
          "base_uri": "https://localhost:8080/",
          "height": 394
        }
      },
      "execution_count": null,
      "outputs": [
        {
          "output_type": "execute_result",
          "data": {
            "text/plain": [
              "        count          mean        std        min        25%         50%  \\\n",
              "age     442.0 -3.639623e-16   0.047619  -0.107226  -0.037299    0.005383   \n",
              "sex     442.0  1.309912e-16   0.047619  -0.044642  -0.044642   -0.044642   \n",
              "bmi     442.0 -8.013951e-16   0.047619  -0.090275  -0.034229   -0.007284   \n",
              "bp      442.0  1.289818e-16   0.047619  -0.112400  -0.036656   -0.005671   \n",
              "s1      442.0 -9.042540e-17   0.047619  -0.126781  -0.034248   -0.004321   \n",
              "s2      442.0  1.301121e-16   0.047619  -0.115613  -0.030358   -0.003819   \n",
              "s3      442.0 -4.563971e-16   0.047619  -0.102307  -0.035117   -0.006584   \n",
              "s4      442.0  3.863174e-16   0.047619  -0.076395  -0.039493   -0.002592   \n",
              "s5      442.0 -3.848103e-16   0.047619  -0.126097  -0.033249   -0.001948   \n",
              "s6      442.0 -3.398488e-16   0.047619  -0.137767  -0.033179   -0.001078   \n",
              "target  442.0  1.521335e+02  77.093005  25.000000  87.000000  140.500000   \n",
              "\n",
              "               75%         max  \n",
              "age       0.038076    0.110727  \n",
              "sex       0.050680    0.050680  \n",
              "bmi       0.031248    0.170555  \n",
              "bp        0.035644    0.132044  \n",
              "s1        0.028358    0.153914  \n",
              "s2        0.029844    0.198788  \n",
              "s3        0.029312    0.181179  \n",
              "s4        0.034309    0.185234  \n",
              "s5        0.032433    0.133599  \n",
              "s6        0.027917    0.135612  \n",
              "target  211.500000  346.000000  "
            ],
            "text/html": [
              "\n",
              "  <div id=\"df-9848884c-4109-4c6b-892b-2791c633e394\">\n",
              "    <div class=\"colab-df-container\">\n",
              "      <div>\n",
              "<style scoped>\n",
              "    .dataframe tbody tr th:only-of-type {\n",
              "        vertical-align: middle;\n",
              "    }\n",
              "\n",
              "    .dataframe tbody tr th {\n",
              "        vertical-align: top;\n",
              "    }\n",
              "\n",
              "    .dataframe thead th {\n",
              "        text-align: right;\n",
              "    }\n",
              "</style>\n",
              "<table border=\"1\" class=\"dataframe\">\n",
              "  <thead>\n",
              "    <tr style=\"text-align: right;\">\n",
              "      <th></th>\n",
              "      <th>count</th>\n",
              "      <th>mean</th>\n",
              "      <th>std</th>\n",
              "      <th>min</th>\n",
              "      <th>25%</th>\n",
              "      <th>50%</th>\n",
              "      <th>75%</th>\n",
              "      <th>max</th>\n",
              "    </tr>\n",
              "  </thead>\n",
              "  <tbody>\n",
              "    <tr>\n",
              "      <th>age</th>\n",
              "      <td>442.0</td>\n",
              "      <td>-3.639623e-16</td>\n",
              "      <td>0.047619</td>\n",
              "      <td>-0.107226</td>\n",
              "      <td>-0.037299</td>\n",
              "      <td>0.005383</td>\n",
              "      <td>0.038076</td>\n",
              "      <td>0.110727</td>\n",
              "    </tr>\n",
              "    <tr>\n",
              "      <th>sex</th>\n",
              "      <td>442.0</td>\n",
              "      <td>1.309912e-16</td>\n",
              "      <td>0.047619</td>\n",
              "      <td>-0.044642</td>\n",
              "      <td>-0.044642</td>\n",
              "      <td>-0.044642</td>\n",
              "      <td>0.050680</td>\n",
              "      <td>0.050680</td>\n",
              "    </tr>\n",
              "    <tr>\n",
              "      <th>bmi</th>\n",
              "      <td>442.0</td>\n",
              "      <td>-8.013951e-16</td>\n",
              "      <td>0.047619</td>\n",
              "      <td>-0.090275</td>\n",
              "      <td>-0.034229</td>\n",
              "      <td>-0.007284</td>\n",
              "      <td>0.031248</td>\n",
              "      <td>0.170555</td>\n",
              "    </tr>\n",
              "    <tr>\n",
              "      <th>bp</th>\n",
              "      <td>442.0</td>\n",
              "      <td>1.289818e-16</td>\n",
              "      <td>0.047619</td>\n",
              "      <td>-0.112400</td>\n",
              "      <td>-0.036656</td>\n",
              "      <td>-0.005671</td>\n",
              "      <td>0.035644</td>\n",
              "      <td>0.132044</td>\n",
              "    </tr>\n",
              "    <tr>\n",
              "      <th>s1</th>\n",
              "      <td>442.0</td>\n",
              "      <td>-9.042540e-17</td>\n",
              "      <td>0.047619</td>\n",
              "      <td>-0.126781</td>\n",
              "      <td>-0.034248</td>\n",
              "      <td>-0.004321</td>\n",
              "      <td>0.028358</td>\n",
              "      <td>0.153914</td>\n",
              "    </tr>\n",
              "    <tr>\n",
              "      <th>s2</th>\n",
              "      <td>442.0</td>\n",
              "      <td>1.301121e-16</td>\n",
              "      <td>0.047619</td>\n",
              "      <td>-0.115613</td>\n",
              "      <td>-0.030358</td>\n",
              "      <td>-0.003819</td>\n",
              "      <td>0.029844</td>\n",
              "      <td>0.198788</td>\n",
              "    </tr>\n",
              "    <tr>\n",
              "      <th>s3</th>\n",
              "      <td>442.0</td>\n",
              "      <td>-4.563971e-16</td>\n",
              "      <td>0.047619</td>\n",
              "      <td>-0.102307</td>\n",
              "      <td>-0.035117</td>\n",
              "      <td>-0.006584</td>\n",
              "      <td>0.029312</td>\n",
              "      <td>0.181179</td>\n",
              "    </tr>\n",
              "    <tr>\n",
              "      <th>s4</th>\n",
              "      <td>442.0</td>\n",
              "      <td>3.863174e-16</td>\n",
              "      <td>0.047619</td>\n",
              "      <td>-0.076395</td>\n",
              "      <td>-0.039493</td>\n",
              "      <td>-0.002592</td>\n",
              "      <td>0.034309</td>\n",
              "      <td>0.185234</td>\n",
              "    </tr>\n",
              "    <tr>\n",
              "      <th>s5</th>\n",
              "      <td>442.0</td>\n",
              "      <td>-3.848103e-16</td>\n",
              "      <td>0.047619</td>\n",
              "      <td>-0.126097</td>\n",
              "      <td>-0.033249</td>\n",
              "      <td>-0.001948</td>\n",
              "      <td>0.032433</td>\n",
              "      <td>0.133599</td>\n",
              "    </tr>\n",
              "    <tr>\n",
              "      <th>s6</th>\n",
              "      <td>442.0</td>\n",
              "      <td>-3.398488e-16</td>\n",
              "      <td>0.047619</td>\n",
              "      <td>-0.137767</td>\n",
              "      <td>-0.033179</td>\n",
              "      <td>-0.001078</td>\n",
              "      <td>0.027917</td>\n",
              "      <td>0.135612</td>\n",
              "    </tr>\n",
              "    <tr>\n",
              "      <th>target</th>\n",
              "      <td>442.0</td>\n",
              "      <td>1.521335e+02</td>\n",
              "      <td>77.093005</td>\n",
              "      <td>25.000000</td>\n",
              "      <td>87.000000</td>\n",
              "      <td>140.500000</td>\n",
              "      <td>211.500000</td>\n",
              "      <td>346.000000</td>\n",
              "    </tr>\n",
              "  </tbody>\n",
              "</table>\n",
              "</div>\n",
              "      <button class=\"colab-df-convert\" onclick=\"convertToInteractive('df-9848884c-4109-4c6b-892b-2791c633e394')\"\n",
              "              title=\"Convert this dataframe to an interactive table.\"\n",
              "              style=\"display:none;\">\n",
              "        \n",
              "  <svg xmlns=\"http://www.w3.org/2000/svg\" height=\"24px\"viewBox=\"0 0 24 24\"\n",
              "       width=\"24px\">\n",
              "    <path d=\"M0 0h24v24H0V0z\" fill=\"none\"/>\n",
              "    <path d=\"M18.56 5.44l.94 2.06.94-2.06 2.06-.94-2.06-.94-.94-2.06-.94 2.06-2.06.94zm-11 1L8.5 8.5l.94-2.06 2.06-.94-2.06-.94L8.5 2.5l-.94 2.06-2.06.94zm10 10l.94 2.06.94-2.06 2.06-.94-2.06-.94-.94-2.06-.94 2.06-2.06.94z\"/><path d=\"M17.41 7.96l-1.37-1.37c-.4-.4-.92-.59-1.43-.59-.52 0-1.04.2-1.43.59L10.3 9.45l-7.72 7.72c-.78.78-.78 2.05 0 2.83L4 21.41c.39.39.9.59 1.41.59.51 0 1.02-.2 1.41-.59l7.78-7.78 2.81-2.81c.8-.78.8-2.07 0-2.86zM5.41 20L4 18.59l7.72-7.72 1.47 1.35L5.41 20z\"/>\n",
              "  </svg>\n",
              "      </button>\n",
              "      \n",
              "  <style>\n",
              "    .colab-df-container {\n",
              "      display:flex;\n",
              "      flex-wrap:wrap;\n",
              "      gap: 12px;\n",
              "    }\n",
              "\n",
              "    .colab-df-convert {\n",
              "      background-color: #E8F0FE;\n",
              "      border: none;\n",
              "      border-radius: 50%;\n",
              "      cursor: pointer;\n",
              "      display: none;\n",
              "      fill: #1967D2;\n",
              "      height: 32px;\n",
              "      padding: 0 0 0 0;\n",
              "      width: 32px;\n",
              "    }\n",
              "\n",
              "    .colab-df-convert:hover {\n",
              "      background-color: #E2EBFA;\n",
              "      box-shadow: 0px 1px 2px rgba(60, 64, 67, 0.3), 0px 1px 3px 1px rgba(60, 64, 67, 0.15);\n",
              "      fill: #174EA6;\n",
              "    }\n",
              "\n",
              "    [theme=dark] .colab-df-convert {\n",
              "      background-color: #3B4455;\n",
              "      fill: #D2E3FC;\n",
              "    }\n",
              "\n",
              "    [theme=dark] .colab-df-convert:hover {\n",
              "      background-color: #434B5C;\n",
              "      box-shadow: 0px 1px 3px 1px rgba(0, 0, 0, 0.15);\n",
              "      filter: drop-shadow(0px 1px 2px rgba(0, 0, 0, 0.3));\n",
              "      fill: #FFFFFF;\n",
              "    }\n",
              "  </style>\n",
              "\n",
              "      <script>\n",
              "        const buttonEl =\n",
              "          document.querySelector('#df-9848884c-4109-4c6b-892b-2791c633e394 button.colab-df-convert');\n",
              "        buttonEl.style.display =\n",
              "          google.colab.kernel.accessAllowed ? 'block' : 'none';\n",
              "\n",
              "        async function convertToInteractive(key) {\n",
              "          const element = document.querySelector('#df-9848884c-4109-4c6b-892b-2791c633e394');\n",
              "          const dataTable =\n",
              "            await google.colab.kernel.invokeFunction('convertToInteractive',\n",
              "                                                     [key], {});\n",
              "          if (!dataTable) return;\n",
              "\n",
              "          const docLinkHtml = 'Like what you see? Visit the ' +\n",
              "            '<a target=\"_blank\" href=https://colab.research.google.com/notebooks/data_table.ipynb>data table notebook</a>'\n",
              "            + ' to learn more about interactive tables.';\n",
              "          element.innerHTML = '';\n",
              "          dataTable['output_type'] = 'display_data';\n",
              "          await google.colab.output.renderOutput(dataTable, element);\n",
              "          const docLink = document.createElement('div');\n",
              "          docLink.innerHTML = docLinkHtml;\n",
              "          element.appendChild(docLink);\n",
              "        }\n",
              "      </script>\n",
              "    </div>\n",
              "  </div>\n",
              "  "
            ]
          },
          "metadata": {},
          "execution_count": 33
        }
      ]
    },
    {
      "cell_type": "code",
      "source": [
        "df.info()"
      ],
      "metadata": {
        "id": "mnbkvu8EWqJv",
        "outputId": "15bb69f8-efef-4935-94e6-0444092d88d3",
        "colab": {
          "base_uri": "https://localhost:8080/"
        }
      },
      "execution_count": null,
      "outputs": [
        {
          "output_type": "stream",
          "name": "stdout",
          "text": [
            "<class 'pandas.core.frame.DataFrame'>\n",
            "RangeIndex: 442 entries, 0 to 441\n",
            "Data columns (total 11 columns):\n",
            " #   Column  Non-Null Count  Dtype  \n",
            "---  ------  --------------  -----  \n",
            " 0   age     442 non-null    float64\n",
            " 1   sex     442 non-null    float64\n",
            " 2   bmi     442 non-null    float64\n",
            " 3   bp      442 non-null    float64\n",
            " 4   s1      442 non-null    float64\n",
            " 5   s2      442 non-null    float64\n",
            " 6   s3      442 non-null    float64\n",
            " 7   s4      442 non-null    float64\n",
            " 8   s5      442 non-null    float64\n",
            " 9   s6      442 non-null    float64\n",
            " 10  target  442 non-null    float64\n",
            "dtypes: float64(11)\n",
            "memory usage: 38.1 KB\n"
          ]
        }
      ]
    },
    {
      "cell_type": "code",
      "source": [
        "plt.figure(figsize=(15,10))\n",
        "sns.heatmap(df.corr(), annot=True);"
      ],
      "metadata": {
        "id": "vCT-tDpwWr6W",
        "outputId": "b02740e9-04aa-41f9-c5da-ae0e466a5dd5",
        "colab": {
          "base_uri": "https://localhost:8080/",
          "height": 598
        }
      },
      "execution_count": null,
      "outputs": [
        {
          "output_type": "display_data",
          "data": {
            "text/plain": [
              "<Figure size 1080x720 with 2 Axes>"
            ],
            "image/png": "[encoded data removed]"
          },
          "metadata": {
            "needs_background": "light"
          }
        }
      ]
    },
    {
      "cell_type": "markdown",
      "source": [
        "## Task\n",
        "### Build a multilinear regression model with those 3 features"
      ],
      "metadata": {
        "id": "nDiTd4aeWzH1"
      }
    }
  ]
}