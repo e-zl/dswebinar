{
  "cells": [
    {
      "cell_type": "markdown",
      "metadata": {
        "colab_type": "text",
        "id": "view-in-github"
      },
      "source": [
        "<a href=\"https://colab.research.google.com/github/jtao/dswebinar/blob/master/pyspark/PySpark_DataFrame.ipynb\" target=\"_parent\"><img src=\"https://colab.research.google.com/assets/colab-badge.svg\" alt=\"Open In Colab\"/></a>"
      ]
    },
    {
      "cell_type": "markdown",
      "metadata": {
        "id": "pZxC8jYc6HHT"
      },
      "source": [
        "# PySpark DataFrames and SQL\n",
        "\n",
        "[Jian Tao](https://orcid.org/0000-0003-4228-6089), Texas A&M University\n",
        "\n",
        "May 1, 2021"
      ]
    },
    {
      "cell_type": "markdown",
      "metadata": {
        "id": "aa-YWlj2p2dV"
      },
      "source": [
        "### 1. Set up the PySpark environment first"
      ]
    },
    {
      "cell_type": "code",
      "execution_count": 1,
      "metadata": {
        "colab": {
          "base_uri": "https://localhost:8080/"
        },
        "id": "WJlWGm4aEZeM",
        "outputId": "5ae8568c-c868-4558-9a6d-3aa20feb34de"
      },
      "outputs": [
        {
          "name": "stdout",
          "output_type": "stream",
          "text": [
            "Looking in indexes: https://pypi.org/simple, https://us-python.pkg.dev/colab-wheels/public/simple/\n",
            "Requirement already satisfied: pyspark in /usr/local/lib/python3.7/dist-packages (3.3.0)\n",
            "Requirement already satisfied: py4j==0.10.9.5 in /usr/local/lib/python3.7/dist-packages (from pyspark) (0.10.9.5)\n"
          ]
        }
      ],
      "source": [
        "# For each Google Colab, we will need to run this cell to ensure that PySpark is installed properly.\n",
        "!pip install pyspark\n",
        "from pyspark.sql import SparkSession\n",
        "spark = SparkSession.builder.appName(\"Colab\").config('spark.ui.port', '4050').getOrCreate()\n",
        "\n",
        "# !wget https://bin.equinox.io/c/4VmDzA7iaHb/ngrok-stable-linux-amd64.zip\n",
        "# !unzip -o ngrok-stable-linux-amd64.zip\n",
        "# get_ipython().system_raw('./ngrok http 4050 &')\n",
        "# !curl -s http://localhost:4040/api/tunnels | python3 -c \"import sys, json; print(\\\"\\nClick me to launch (give it a minute or two)\\n\\\"); print(json.load(sys.stdin)['tunnels'][0]['public_url'])\""
      ]
    },
    {
      "cell_type": "markdown",
      "metadata": {
        "id": "R_4Zin3ep2dX"
      },
      "source": [
        "### 2. Create a DataFrame by reading from a CSV/JSON file\n",
        "\n",
        "`spark.read.csv` can only read from local files, so we will have to download the CSV file from the URL first. We can use `SparkFiles` to do that or use `pandas`. For those CSV files with a header, please make sure to set `header=True` in the argument list for `spark.read.csv`. When the data types of the columns are not known, `inferSchema=True` will do the trick to automatically recognize the data types, but it is not perfect. In our example, `Horsepower` is not correctly recognized."
      ]
    },
    {
      "cell_type": "code",
      "execution_count": 2,
      "metadata": {
        "colab": {
          "base_uri": "https://localhost:8080/"
        },
        "id": "8VhDbsJr64Xh",
        "outputId": "1fe27497-5c1f-42c5-9216-f2e02163ab29"
      },
      "outputs": [
        {
          "name": "stdout",
          "output_type": "stream",
          "text": [
            "root\n",
            " |-- mpg: double (nullable = true)\n",
            " |-- cylinders: integer (nullable = true)\n",
            " |-- displacement: double (nullable = true)\n",
            " |-- horsepower: string (nullable = true)\n",
            " |-- weight: integer (nullable = true)\n",
            " |-- acceleration: double (nullable = true)\n",
            " |-- year: integer (nullable = true)\n",
            " |-- origin: integer (nullable = true)\n",
            " |-- name: string (nullable = true)\n",
            "\n",
            "+----+---------+------------+----------+------+------------+----+------+--------------------+\n",
            "| mpg|cylinders|displacement|horsepower|weight|acceleration|year|origin|                name|\n",
            "+----+---------+------------+----------+------+------------+----+------+--------------------+\n",
            "|18.0|        8|       307.0|       130|  3504|        12.0|  70|     1|chevrolet chevell...|\n",
            "|15.0|        8|       350.0|       165|  3693|        11.5|  70|     1|   buick skylark 320|\n",
            "|18.0|        8|       318.0|       150|  3436|        11.0|  70|     1|  plymouth satellite|\n",
            "|16.0|        8|       304.0|       150|  3433|        12.0|  70|     1|       amc rebel sst|\n",
            "|17.0|        8|       302.0|       140|  3449|        10.5|  70|     1|         ford torino|\n",
            "+----+---------+------------+----------+------+------------+----+------+--------------------+\n",
            "only showing top 5 rows\n",
            "\n"
          ]
        }
      ],
      "source": [
        "from pyspark import SparkFiles\n",
        "\n",
        "csv_url = \"https://raw.githubusercontent.com/jtao/AdvancedML/main/data/Auto.csv\"\n",
        "json_url = \"https://raw.githubusercontent.com/jtao/dswebinar/master/pyspark/Auto.json\"\n",
        "\n",
        "spark.sparkContext.addFile(csv_url)\n",
        "spark.sparkContext.addFile(json_url)\n",
        "\n",
        "## One can create a spark dataframe from pandas dataframe as well.\n",
        "# import pandas as pd\n",
        "# df = spark.createDataFrame(pd.read_csv(url))\n",
        "\n",
        "#df = spark.read.csv(SparkFiles.get(\"Auto.csv\"), header=True, sep=\",\", inferSchema=False)\n",
        "df = spark.read.csv(SparkFiles.get(\"Auto.csv\"), header=True, sep=\",\", inferSchema=True)\n",
        "\n",
        "df.printSchema()\n",
        "df.show(5)"
      ]
    },
    {
      "cell_type": "code",
      "execution_count": 3,
      "metadata": {
        "colab": {
          "base_uri": "https://localhost:8080/"
        },
        "id": "xSes5lzyp2dY",
        "outputId": "e909d885-d186-4611-af9f-8c9761cfb831"
      },
      "outputs": [
        {
          "name": "stdout",
          "output_type": "stream",
          "text": [
            "root\n",
            " |-- acceleration: double (nullable = true)\n",
            " |-- cylinders: long (nullable = true)\n",
            " |-- displacement: double (nullable = true)\n",
            " |-- horsepower: string (nullable = true)\n",
            " |-- mpg: double (nullable = true)\n",
            " |-- name: string (nullable = true)\n",
            " |-- origin: long (nullable = true)\n",
            " |-- weight: long (nullable = true)\n",
            " |-- year: long (nullable = true)\n",
            "\n",
            "+------------+---------+------------+----------+----+--------------------+------+------+----+\n",
            "|acceleration|cylinders|displacement|horsepower| mpg|                name|origin|weight|year|\n",
            "+------------+---------+------------+----------+----+--------------------+------+------+----+\n",
            "|        12.0|        8|       307.0|       130|18.0|chevrolet chevell...|     1|  3504|  70|\n",
            "|        11.5|        8|       350.0|       165|15.0|   buick skylark 320|     1|  3693|  70|\n",
            "|        11.0|        8|       318.0|       150|18.0|  plymouth satellite|     1|  3436|  70|\n",
            "|        12.0|        8|       304.0|       150|16.0|       amc rebel sst|     1|  3433|  70|\n",
            "|        10.5|        8|       302.0|       140|17.0|         ford torino|     1|  3449|  70|\n",
            "|        10.0|        8|       429.0|       198|15.0|    ford galaxie 500|     1|  4341|  70|\n",
            "|         9.0|        8|       454.0|       220|14.0|    chevrolet impala|     1|  4354|  70|\n",
            "|         8.5|        8|       440.0|       215|14.0|   plymouth fury iii|     1|  4312|  70|\n",
            "|        10.0|        8|       455.0|       225|14.0|    pontiac catalina|     1|  4425|  70|\n",
            "|         8.5|        8|       390.0|       190|15.0|  amc ambassador dpl|     1|  3850|  70|\n",
            "+------------+---------+------------+----------+----+--------------------+------+------+----+\n",
            "only showing top 10 rows\n",
            "\n"
          ]
        }
      ],
      "source": [
        "# either will work\n",
        "df = spark.read.json(SparkFiles.get(\"Auto.json\"))\n",
        "#df = spark.read.load(SparkFiles.get(\"Auto.json\"),format=\"json\")\n",
        "\n",
        "df.printSchema()\n",
        "df.show(10)"
      ]
    },
    {
      "cell_type": "markdown",
      "metadata": {
        "id": "ZnvcbVS0p2dY"
      },
      "source": [
        "We can define a schema to help `spark.read.csv` to correctly cast the type of all the columns."
      ]
    },
    {
      "cell_type": "code",
      "execution_count": 4,
      "metadata": {
        "colab": {
          "base_uri": "https://localhost:8080/"
        },
        "id": "SLJ4ZWApDCbS",
        "outputId": "b90ddb3e-08d7-4358-e928-85eccac7d34a"
      },
      "outputs": [
        {
          "name": "stdout",
          "output_type": "stream",
          "text": [
            "root\n",
            " |-- mpg: integer (nullable = true)\n",
            " |-- cylinders: integer (nullable = true)\n",
            " |-- displacement: integer (nullable = true)\n",
            " |-- horsepower: integer (nullable = true)\n",
            " |-- weight: integer (nullable = true)\n",
            " |-- acceleration: double (nullable = true)\n",
            " |-- year: integer (nullable = true)\n",
            " |-- origin: integer (nullable = true)\n",
            " |-- name: string (nullable = true)\n",
            "\n",
            "+---+---------+------------+----------+------+------------+----+------+--------------------+\n",
            "|mpg|cylinders|displacement|horsepower|weight|acceleration|year|origin|                name|\n",
            "+---+---------+------------+----------+------+------------+----+------+--------------------+\n",
            "| 18|        8|         307|       130|  3504|        12.0|  70|     1|chevrolet chevell...|\n",
            "| 15|        8|         350|       165|  3693|        11.5|  70|     1|   buick skylark 320|\n",
            "| 18|        8|         318|       150|  3436|        11.0|  70|     1|  plymouth satellite|\n",
            "| 16|        8|         304|       150|  3433|        12.0|  70|     1|       amc rebel sst|\n",
            "| 17|        8|         302|       140|  3449|        10.5|  70|     1|         ford torino|\n",
            "+---+---------+------------+----------+------+------------+----+------+--------------------+\n",
            "only showing top 5 rows\n",
            "\n"
          ]
        }
      ],
      "source": [
        "from pyspark.sql.types import *\n",
        "\n",
        "user_schema = StructType([\n",
        "                     StructField(\"mpg\", IntegerType(), True),\n",
        "                     StructField(\"cylinders\", IntegerType(), True),\n",
        "                     StructField(\"displacement\", IntegerType(), True),\n",
        "                     StructField(\"horsepower\", IntegerType(), True),\n",
        "                     StructField(\"weight\", IntegerType(), True),\n",
        "                     StructField(\"acceleration\", DoubleType(), True),\n",
        "                     StructField(\"year\", IntegerType(), True),\n",
        "                     StructField(\"origin\", IntegerType(), True),\n",
        "                     StructField(\"name\", StringType(), True)\n",
        "])\n",
        "\n",
        "df = spark.read.csv(SparkFiles.get(\"Auto.csv\"), header=True, sep=\",\", schema=user_schema, inferSchema=True)\n",
        "\n",
        "df.printSchema()\n",
        "df.show(5)"
      ]
    },
    {
      "cell_type": "code",
      "execution_count": 5,
      "metadata": {
        "colab": {
          "base_uri": "https://localhost:8080/"
        },
        "id": "Oy3fb1Zzp2dZ",
        "outputId": "098407dd-80b6-42c2-9c10-32136859d583"
      },
      "outputs": [
        {
          "name": "stdout",
          "output_type": "stream",
          "text": [
            "root\n",
            " |-- acceleration: double (nullable = true)\n",
            " |-- cylinders: long (nullable = true)\n",
            " |-- displacement: double (nullable = true)\n",
            " |-- horsepower: string (nullable = true)\n",
            " |-- mpg: double (nullable = true)\n",
            " |-- name: string (nullable = true)\n",
            " |-- origin: long (nullable = true)\n",
            " |-- weight: long (nullable = true)\n",
            " |-- year: long (nullable = true)\n",
            "\n",
            "+------------+---------+------------+----------+----+--------------------+------+------+----+\n",
            "|acceleration|cylinders|displacement|horsepower| mpg|                name|origin|weight|year|\n",
            "+------------+---------+------------+----------+----+--------------------+------+------+----+\n",
            "|        12.0|        8|       307.0|       130|18.0|chevrolet chevell...|     1|  3504|  70|\n",
            "|        11.5|        8|       350.0|       165|15.0|   buick skylark 320|     1|  3693|  70|\n",
            "|        11.0|        8|       318.0|       150|18.0|  plymouth satellite|     1|  3436|  70|\n",
            "|        12.0|        8|       304.0|       150|16.0|       amc rebel sst|     1|  3433|  70|\n",
            "|        10.5|        8|       302.0|       140|17.0|         ford torino|     1|  3449|  70|\n",
            "|        10.0|        8|       429.0|       198|15.0|    ford galaxie 500|     1|  4341|  70|\n",
            "|         9.0|        8|       454.0|       220|14.0|    chevrolet impala|     1|  4354|  70|\n",
            "|         8.5|        8|       440.0|       215|14.0|   plymouth fury iii|     1|  4312|  70|\n",
            "|        10.0|        8|       455.0|       225|14.0|    pontiac catalina|     1|  4425|  70|\n",
            "|         8.5|        8|       390.0|       190|15.0|  amc ambassador dpl|     1|  3850|  70|\n",
            "|        10.0|        8|       383.0|       170|15.0| dodge challenger se|     1|  3563|  70|\n",
            "|         8.0|        8|       340.0|       160|14.0|  plymouth 'cuda 340|     1|  3609|  70|\n",
            "|         9.5|        8|       400.0|       150|15.0|chevrolet monte c...|     1|  3761|  70|\n",
            "|        10.0|        8|       455.0|       225|14.0|buick estate wago...|     1|  3086|  70|\n",
            "|        15.0|        4|       113.0|        95|24.0|toyota corona mar...|     3|  2372|  70|\n",
            "|        15.5|        6|       198.0|        95|22.0|     plymouth duster|     1|  2833|  70|\n",
            "|        15.5|        6|       199.0|        97|18.0|          amc hornet|     1|  2774|  70|\n",
            "|        16.0|        6|       200.0|        85|21.0|       ford maverick|     1|  2587|  70|\n",
            "|        14.5|        4|        97.0|        88|27.0|        datsun pl510|     3|  2130|  70|\n",
            "|        20.5|        4|        97.0|        46|26.0|volkswagen 1131 d...|     2|  1835|  70|\n",
            "+------------+---------+------------+----------+----+--------------------+------+------+----+\n",
            "only showing top 20 rows\n",
            "\n"
          ]
        }
      ],
      "source": [
        "df = spark.read.json(SparkFiles.get(\"Auto.json\"))\n",
        "df.printSchema()\n",
        "df.show()"
      ]
    },
    {
      "cell_type": "markdown",
      "metadata": {
        "id": "6PPLj5hPp2da"
      },
      "source": [
        "### 3. Create a Spark DataFrame with a list"
      ]
    },
    {
      "cell_type": "code",
      "execution_count": 6,
      "metadata": {
        "colab": {
          "base_uri": "https://localhost:8080/"
        },
        "id": "schVRvA8p2da",
        "outputId": "3a21659f-c530-4351-8ff3-539b9a3a82dc"
      },
      "outputs": [
        {
          "name": "stdout",
          "output_type": "stream",
          "text": [
            "root\n",
            " |-- _1: long (nullable = true)\n",
            " |-- _2: long (nullable = true)\n",
            " |-- _3: string (nullable = true)\n",
            "\n",
            "+---+---+---------+\n",
            "| _1| _2|       _3|\n",
            "+---+---+---------+\n",
            "|  1| 18|Chevrolet|\n",
            "|  2| 15|    Buick|\n",
            "|  3| 18| Plymouth|\n",
            "|  4| 16|      Amc|\n",
            "|  5| 17|     Ford|\n",
            "+---+---+---------+\n",
            "\n",
            "root\n",
            " |-- id: integer (nullable = true)\n",
            " |-- mpg: integer (nullable = true)\n",
            " |-- name: string (nullable = true)\n",
            "\n",
            "+---+---+---------+\n",
            "| id|mpg|     name|\n",
            "+---+---+---------+\n",
            "|  1| 18|Chevrolet|\n",
            "|  2| 15|    Buick|\n",
            "|  3| 18| Plymouth|\n",
            "|  4| 16|      Amc|\n",
            "|  5| 17|     Ford|\n",
            "+---+---+---------+\n",
            "\n"
          ]
        }
      ],
      "source": [
        "auto_list = [(1, 18, \"Chevrolet\"), (2, 15, \"Buick\"), (3, 18, \"Plymouth\"), (4, 16, \"Amc\"), (5, 17, \"Ford\")]\n",
        "\n",
        "df = spark.createDataFrame(auto_list)\n",
        "df.printSchema()\n",
        "df.show(5)\n",
        "\n",
        "from pyspark.sql.types import StructType, StructField, IntegerType, StringType\n",
        "\n",
        "users_schema = StructType([\n",
        "                          StructField(\"id\", IntegerType(), True),\n",
        "                          StructField(\"mpg\", IntegerType(), True),\n",
        "                          StructField(\"name\", StringType(), True)])\n",
        "\n",
        "df = spark.createDataFrame(auto_list, schema=users_schema)\n",
        "df.printSchema()\n",
        "df.show(5)"
      ]
    },
    {
      "cell_type": "markdown",
      "metadata": {
        "id": "lATQPZOip2db"
      },
      "source": [
        "### 4. Create a Spark DataFrame with a list of dictionaries"
      ]
    },
    {
      "cell_type": "code",
      "execution_count": 7,
      "metadata": {
        "colab": {
          "base_uri": "https://localhost:8080/"
        },
        "id": "Yj3_hRdEp2db",
        "outputId": "dfbf6767-4e7b-42f7-f74a-0bc6d6837485"
      },
      "outputs": [
        {
          "name": "stdout",
          "output_type": "stream",
          "text": [
            "root\n",
            " |-- id: long (nullable = true)\n",
            " |-- mpg: long (nullable = true)\n",
            " |-- name: string (nullable = true)\n",
            "\n",
            "+---+---+---------+\n",
            "| id|mpg|     name|\n",
            "+---+---+---------+\n",
            "|  1| 18|Chevrolet|\n",
            "|  2| 15|    Buick|\n",
            "|  3| 18| Plymouth|\n",
            "|  4| 16|      Amc|\n",
            "|  5| 17|     Ford|\n",
            "+---+---+---------+\n",
            "\n"
          ]
        }
      ],
      "source": [
        "auto_list = [{\"id\": 1, \"mpg\": 18, \"name\": \"Chevrolet\"}, \n",
        "                {\"id\": 2, \"mpg\": 15, \"name\": \"Buick\"}, \n",
        "                {\"id\": 3, \"mpg\": 18, \"name\": \"Plymouth\"}, \n",
        "                {\"id\": 4, \"mpg\": 16, \"name\": \"Amc\"}, \n",
        "                {\"id\": 5, \"mpg\": 17, \"name\": \"Ford\"}]\n",
        "df = spark.createDataFrame(auto_list)\n",
        "df.printSchema()\n",
        "df.show(5)"
      ]
    },
    {
      "cell_type": "markdown",
      "metadata": {
        "id": "Gse5uviKp2dc"
      },
      "source": [
        "### 5. Operations on Spark DataFrame"
      ]
    },
    {
      "cell_type": "code",
      "execution_count": 8,
      "metadata": {
        "id": "DAGX32_zp2dc"
      },
      "outputs": [],
      "source": [
        "# Load the full data set again.\n",
        "df = spark.read.csv(SparkFiles.get(\"Auto.csv\"), header=True, sep=\",\", inferSchema=True)"
      ]
    },
    {
      "cell_type": "code",
      "execution_count": 9,
      "metadata": {
        "colab": {
          "base_uri": "https://localhost:8080/"
        },
        "id": "4ICgVhl2p2dc",
        "outputId": "b42c6bbd-e14a-488d-d81b-1e295fdbfcff"
      },
      "outputs": [
        {
          "name": "stdout",
          "output_type": "stream",
          "text": [
            "+--------------------+\n",
            "|                name|\n",
            "+--------------------+\n",
            "|chevrolet chevell...|\n",
            "|   buick skylark 320|\n",
            "|  plymouth satellite|\n",
            "|       amc rebel sst|\n",
            "|         ford torino|\n",
            "+--------------------+\n",
            "only showing top 5 rows\n",
            "\n"
          ]
        }
      ],
      "source": [
        "# Select only the \"name\" column\n",
        "df.select(\"name\").show(5)"
      ]
    },
    {
      "cell_type": "code",
      "execution_count": 10,
      "metadata": {
        "colab": {
          "base_uri": "https://localhost:8080/"
        },
        "id": "jtqxjtPIp2dc",
        "outputId": "7e380b4e-0da4-448f-f241-6a3ed31e345f"
      },
      "outputs": [
        {
          "name": "stdout",
          "output_type": "stream",
          "text": [
            "+--------------------+-----------+\n",
            "|                name|(mpg + 100)|\n",
            "+--------------------+-----------+\n",
            "|chevrolet chevell...|      118.0|\n",
            "|   buick skylark 320|      115.0|\n",
            "|  plymouth satellite|      118.0|\n",
            "|       amc rebel sst|      116.0|\n",
            "|         ford torino|      117.0|\n",
            "+--------------------+-----------+\n",
            "only showing top 5 rows\n",
            "\n"
          ]
        }
      ],
      "source": [
        "# Select everybody, but increment the mpg by 100\n",
        "df.select(df['name'], df['mpg'] + 100).show(5)"
      ]
    },
    {
      "cell_type": "code",
      "execution_count": 11,
      "metadata": {
        "colab": {
          "base_uri": "https://localhost:8080/"
        },
        "id": "chnSjcLqp2dd",
        "outputId": "4df9f4c5-f869-4226-83a6-5eb2128cdc23"
      },
      "outputs": [
        {
          "name": "stdout",
          "output_type": "stream",
          "text": [
            "+----+---------+------------+----------+------+------------+----+------+-------------------+\n",
            "| mpg|cylinders|displacement|horsepower|weight|acceleration|year|origin|               name|\n",
            "+----+---------+------------+----------+------+------------+----+------+-------------------+\n",
            "|31.0|        4|        71.0|        65|  1773|        19.0|  71|     3|toyota corolla 1200|\n",
            "|35.0|        4|        72.0|        69|  1613|        18.0|  71|     3|        datsun 1200|\n",
            "|31.0|        4|        79.0|        67|  1950|        19.0|  74|     3|        datsun b210|\n",
            "|32.0|        4|        71.0|        65|  1836|        21.0|  74|     3|toyota corolla 1200|\n",
            "|31.0|        4|        76.0|        52|  1649|        16.5|  74|     3|      toyota corona|\n",
            "+----+---------+------------+----------+------+------------+----+------+-------------------+\n",
            "only showing top 5 rows\n",
            "\n"
          ]
        }
      ],
      "source": [
        "# Select mpg greater than 30\n",
        "df.filter(df['mpg'] > 30).show(5)"
      ]
    },
    {
      "cell_type": "code",
      "execution_count": 12,
      "metadata": {
        "colab": {
          "base_uri": "https://localhost:8080/"
        },
        "id": "1D5VACO8p2dd",
        "outputId": "b6648480-21b3-4c25-f2ab-257c73ae005c"
      },
      "outputs": [
        {
          "name": "stdout",
          "output_type": "stream",
          "text": [
            "+---------+-----+\n",
            "|cylinders|count|\n",
            "+---------+-----+\n",
            "|        6|   84|\n",
            "|        3|    4|\n",
            "|        5|    3|\n",
            "|        4|  203|\n",
            "|        8|  103|\n",
            "+---------+-----+\n",
            "\n"
          ]
        }
      ],
      "source": [
        "# Count Cars by cylinders\n",
        "df.groupBy(\"cylinders\").count().show(10)"
      ]
    },
    {
      "cell_type": "markdown",
      "metadata": {
        "id": "5KWmH_4gp2dd"
      },
      "source": [
        "### 6. Running SQL queries programmatically"
      ]
    },
    {
      "cell_type": "code",
      "execution_count": 13,
      "metadata": {
        "colab": {
          "base_uri": "https://localhost:8080/"
        },
        "id": "NKDKrHNap2dd",
        "outputId": "e10ea611-1b2f-465d-8715-3bdcc7824821"
      },
      "outputs": [
        {
          "name": "stdout",
          "output_type": "stream",
          "text": [
            "+----+---------+------------+----------+------+------------+----+------+--------------------+\n",
            "| mpg|cylinders|displacement|horsepower|weight|acceleration|year|origin|                name|\n",
            "+----+---------+------------+----------+------+------------+----+------+--------------------+\n",
            "|18.0|        8|       307.0|       130|  3504|        12.0|  70|     1|chevrolet chevell...|\n",
            "|15.0|        8|       350.0|       165|  3693|        11.5|  70|     1|   buick skylark 320|\n",
            "|18.0|        8|       318.0|       150|  3436|        11.0|  70|     1|  plymouth satellite|\n",
            "|16.0|        8|       304.0|       150|  3433|        12.0|  70|     1|       amc rebel sst|\n",
            "|17.0|        8|       302.0|       140|  3449|        10.5|  70|     1|         ford torino|\n",
            "+----+---------+------------+----------+------+------------+----+------+--------------------+\n",
            "only showing top 5 rows\n",
            "\n"
          ]
        }
      ],
      "source": [
        "# Register the DataFrame as a SQL temporary view\n",
        "df.createOrReplaceTempView(\"auto\")\n",
        "sqlDF = spark.sql(\"SELECT * FROM auto\")\n",
        "sqlDF.show(5)"
      ]
    },
    {
      "cell_type": "code",
      "execution_count": 14,
      "metadata": {
        "id": "sNjfJ89np2de"
      },
      "outputs": [],
      "source": [
        "# Register the DataFrame as a global temporary view\n",
        "df.createGlobalTempView(\"auto\")"
      ]
    },
    {
      "cell_type": "code",
      "execution_count": 15,
      "metadata": {
        "colab": {
          "base_uri": "https://localhost:8080/"
        },
        "id": "j8K71_2-p2de",
        "outputId": "a2cb182d-04e0-406f-fd63-d25c8adfd072"
      },
      "outputs": [
        {
          "name": "stdout",
          "output_type": "stream",
          "text": [
            "+----+---------+------------+----------+------+------------+----+------+--------------------+\n",
            "| mpg|cylinders|displacement|horsepower|weight|acceleration|year|origin|                name|\n",
            "+----+---------+------------+----------+------+------------+----+------+--------------------+\n",
            "|18.0|        8|       307.0|       130|  3504|        12.0|  70|     1|chevrolet chevell...|\n",
            "|15.0|        8|       350.0|       165|  3693|        11.5|  70|     1|   buick skylark 320|\n",
            "|18.0|        8|       318.0|       150|  3436|        11.0|  70|     1|  plymouth satellite|\n",
            "|16.0|        8|       304.0|       150|  3433|        12.0|  70|     1|       amc rebel sst|\n",
            "|17.0|        8|       302.0|       140|  3449|        10.5|  70|     1|         ford torino|\n",
            "+----+---------+------------+----------+------+------------+----+------+--------------------+\n",
            "only showing top 5 rows\n",
            "\n",
            "+----+---------+------------+----------+------+------------+----+------+--------------------+\n",
            "| mpg|cylinders|displacement|horsepower|weight|acceleration|year|origin|                name|\n",
            "+----+---------+------------+----------+------+------------+----+------+--------------------+\n",
            "|18.0|        8|       307.0|       130|  3504|        12.0|  70|     1|chevrolet chevell...|\n",
            "|15.0|        8|       350.0|       165|  3693|        11.5|  70|     1|   buick skylark 320|\n",
            "|18.0|        8|       318.0|       150|  3436|        11.0|  70|     1|  plymouth satellite|\n",
            "|16.0|        8|       304.0|       150|  3433|        12.0|  70|     1|       amc rebel sst|\n",
            "|17.0|        8|       302.0|       140|  3449|        10.5|  70|     1|         ford torino|\n",
            "+----+---------+------------+----------+------+------------+----+------+--------------------+\n",
            "only showing top 5 rows\n",
            "\n"
          ]
        }
      ],
      "source": [
        "# Global temporary view is tied to a system preserved database `global_temp`\n",
        "spark.sql(\"SELECT * FROM global_temp.auto\").show(5)\n",
        "\n",
        "# Global temporary view is cross-session\n",
        "spark.newSession().sql(\"SELECT * FROM global_temp.auto\").show(5)"
      ]
    },
    {
      "cell_type": "markdown",
      "metadata": {
        "id": "SISV_tNMp2de"
      },
      "source": [
        "### 7. References:\n",
        "\n",
        "SQL References\n",
        "https://spark.apache.org/docs/latest/sql-ref-ansi-compliance.html"
      ]
    }
  ],
  "metadata": {
    "colab": {
      "collapsed_sections": [],
      "include_colab_link": true,
      "name": "Create DataFrame from CSV File in PySpark 3.0 on Google Colab | Part 3.ipynb",
      "provenance": []
    },
    "kernelspec": {
      "display_name": "Python 3",
      "language": "python",
      "name": "python3"
    },
    "language_info": {
      "codemirror_mode": {
        "name": "ipython",
        "version": 3
      },
      "file_extension": ".py",
      "mimetype": "text/x-python",
      "name": "python",
      "nbconvert_exporter": "python",
      "pygments_lexer": "ipython3",
      "version": "3.11.1 (main, Dec 23 2022, 09:28:24) [Clang 14.0.0 (clang-1400.0.29.202)]"
    },
    "vscode": {
      "interpreter": {
        "hash": "5c7b89af1651d0b8571dde13640ecdccf7d5a6204171d6ab33e7c296e100e08a"
      }
    }
  },
  "nbformat": 4,
  "nbformat_minor": 0
}
