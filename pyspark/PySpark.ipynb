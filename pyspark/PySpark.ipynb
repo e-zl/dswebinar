{
 "cells": [
  {
   "cell_type": "markdown",
   "metadata": {},
   "source": [
    "# Setting Up PySpark Environment on Google Colab\n",
    "\n",
    "[Jian Tao](https://orcid.org/0000-0003-4228-6089), Texas A&M University\n",
    "\n",
    "May 1, 2021"
   ]
  },
  {
   "cell_type": "code",
   "execution_count": null,
   "metadata": {
    "colab": {
     "base_uri": "https://localhost:8080/"
    },
    "executionInfo": {
     "elapsed": 4163,
     "status": "ok",
     "timestamp": 1619691257105,
     "user": {
      "displayName": "Jian Tao",
      "photoUrl": "https://lh3.googleusercontent.com/a-/AOh14GhG9Pe7fCrlHe_UyoLCrFepsZ6ZnpuXvpiT4aLR=s64",
      "userId": "01925615186988906375"
     },
     "user_tz": 300
    },
    "id": "WJlWGm4aEZeM",
    "outputId": "8891d94c-1a3a-4b82-e31d-338658cb3993"
   },
   "outputs": [],
   "source": [
    "!pip install pyspark"
   ]
  },
  {
   "cell_type": "code",
   "execution_count": null,
   "metadata": {
    "id": "H0Uwi3wiFbm5"
   },
   "outputs": [],
   "source": [
    "from pyspark.sql import SparkSession\n",
    "spark = SparkSession.builder.appName(\"Colab\").config('spark.ui.port', '4050').getOrCreate()"
   ]
  },
  {
   "cell_type": "code",
   "execution_count": null,
   "metadata": {
    "colab": {
     "base_uri": "https://localhost:8080/",
     "height": 221
    },
    "executionInfo": {
     "elapsed": 396,
     "status": "ok",
     "timestamp": 1619691483316,
     "user": {
      "displayName": "Jian Tao",
      "photoUrl": "https://lh3.googleusercontent.com/a-/AOh14GhG9Pe7fCrlHe_UyoLCrFepsZ6ZnpuXvpiT4aLR=s64",
      "userId": "01925615186988906375"
     },
     "user_tz": 300
    },
    "id": "-glF4P0IEr00",
    "outputId": "71c870fb-879e-4b76-85e0-949d093b5864"
   },
   "outputs": [],
   "source": [
    "spark"
   ]
  },
  {
   "cell_type": "code",
   "execution_count": null,
   "metadata": {
    "colab": {
     "base_uri": "https://localhost:8080/"
    },
    "executionInfo": {
     "elapsed": 1734,
     "status": "ok",
     "timestamp": 1619691919398,
     "user": {
      "displayName": "Jian Tao",
      "photoUrl": "https://lh3.googleusercontent.com/a-/AOh14GhG9Pe7fCrlHe_UyoLCrFepsZ6ZnpuXvpiT4aLR=s64",
      "userId": "01925615186988906375"
     },
     "user_tz": 300
    },
    "id": "Pr2wx4M6Exgi",
    "outputId": "3af8f53b-4163-4e9d-8d50-86ecc848dddc"
   },
   "outputs": [],
   "source": [
    "# If you are running PySpark locally, you can visit the Spark UI at http://localhost:4040\n",
    "# The following is only necessary on Google Colab.\n",
    "# You can find more about ngrok at https://ngrok.com\n",
    "\n",
    "!wget https://bin.equinox.io/c/4VmDzA7iaHb/ngrok-stable-linux-amd64.zip\n",
    "!unzip -o ngrok-stable-linux-amd64.zip\n",
    "get_ipython().system_raw('./ngrok http 4050 &')\n",
    "!curl -s http://localhost:4040/api/tunnels | python3 -c \"import sys, json; print(\\\"\\nClick me to launch (give it a minute or two)\\n\\\"); print(json.load(sys.stdin)['tunnels'][0]['public_url'])\""
   ]
  },
  {
   "cell_type": "code",
   "execution_count": null,
   "metadata": {
    "id": "ukN1pihmHdgB"
   },
   "outputs": [],
   "source": [
    "num_samples = 100000000\n",
    "import random\n",
    "\n",
    "def inside(p):\n",
    "    x, y = random.random(), random.random()\n",
    "    return x*x + y*y < 1\n",
    "\n",
    "sc = spark.sparkContext\n",
    "count = sc.parallelize(range(0, num_samples)).filter(inside).count()\n",
    "\n",
    "pi = 4 * count / num_samples\n",
    "\n",
    "print(pi)\n",
    "\n",
    "# we will stop the spark session when we don't need it anymore.\n",
    "#sc.stop()"
   ]
  }
 ],
 "metadata": {
  "colab": {
   "authorship_tag": "ABX9TyMUTS3VoFQvOCREKfr7nPNt",
   "collapsed_sections": [],
   "name": "PySpark.ipynb",
   "provenance": [
    {
     "file_id": "1Ur9_Q4nnJdIYdfvQrEV3-O8-0f1ifMBQ",
     "timestamp": 1619692740985
    }
   ]
  },
  "kernelspec": {
   "display_name": "Python 3",
   "language": "python",
   "name": "python3"
  },
  "language_info": {
   "codemirror_mode": {
    "name": "ipython",
    "version": 3
   },
   "file_extension": ".py",
   "mimetype": "text/x-python",
   "name": "python",
   "nbconvert_exporter": "python",
   "pygments_lexer": "ipython3",
   "version": "3.8.9"
  }
 },
 "nbformat": 4,
 "nbformat_minor": 4
}
