{
 "cells": [
  {
   "cell_type": "code",
   "execution_count": 1,
   "metadata": {
    "colab": {
     "base_uri": "https://localhost:8080/"
    },
    "executionInfo": {
     "elapsed": 4163,
     "status": "ok",
     "timestamp": 1619691257105,
     "user": {
      "displayName": "Jian Tao",
      "photoUrl": "https://lh3.googleusercontent.com/a-/AOh14GhG9Pe7fCrlHe_UyoLCrFepsZ6ZnpuXvpiT4aLR=s64",
      "userId": "01925615186988906375"
     },
     "user_tz": 300
    },
    "id": "WJlWGm4aEZeM",
    "outputId": "8891d94c-1a3a-4b82-e31d-338658cb3993"
   },
   "outputs": [
    {
     "name": "stdout",
     "output_type": "stream",
     "text": [
      "Requirement already satisfied: pyspark in /home/jtao/Projects/venv/lib/python3.8/site-packages (3.1.1)\n",
      "Requirement already satisfied: py4j==0.10.9 in /home/jtao/Projects/venv/lib/python3.8/site-packages (from pyspark) (0.10.9)\n"
     ]
    }
   ],
   "source": [
    "!pip install pyspark"
   ]
  },
  {
   "cell_type": "code",
   "execution_count": 2,
   "metadata": {
    "id": "H0Uwi3wiFbm5"
   },
   "outputs": [],
   "source": [
    "from pyspark.sql import SparkSession\n",
    "spark = SparkSession.builder.master(\"local\").appName(\"Colab\").config('spark.ui.port', '4050').getOrCreate()"
   ]
  },
  {
   "cell_type": "code",
   "execution_count": 3,
   "metadata": {
    "colab": {
     "base_uri": "https://localhost:8080/",
     "height": 221
    },
    "executionInfo": {
     "elapsed": 396,
     "status": "ok",
     "timestamp": 1619691483316,
     "user": {
      "displayName": "Jian Tao",
      "photoUrl": "https://lh3.googleusercontent.com/a-/AOh14GhG9Pe7fCrlHe_UyoLCrFepsZ6ZnpuXvpiT4aLR=s64",
      "userId": "01925615186988906375"
     },
     "user_tz": 300
    },
    "id": "-glF4P0IEr00",
    "outputId": "71c870fb-879e-4b76-85e0-949d093b5864"
   },
   "outputs": [
    {
     "data": {
      "text/html": [
       "\n",
       "            <div>\n",
       "                <p><b>SparkSession - in-memory</b></p>\n",
       "                \n",
       "        <div>\n",
       "            <p><b>SparkContext</b></p>\n",
       "\n",
       "            <p><a href=\"http://192.168.1.26:4050\">Spark UI</a></p>\n",
       "\n",
       "            <dl>\n",
       "              <dt>Version</dt>\n",
       "                <dd><code>v3.1.1</code></dd>\n",
       "              <dt>Master</dt>\n",
       "                <dd><code>local</code></dd>\n",
       "              <dt>AppName</dt>\n",
       "                <dd><code>Colab</code></dd>\n",
       "            </dl>\n",
       "        </div>\n",
       "        \n",
       "            </div>\n",
       "        "
      ],
      "text/plain": [
       "<pyspark.sql.session.SparkSession at 0x7fed484e62b0>"
      ]
     },
     "execution_count": 3,
     "metadata": {},
     "output_type": "execute_result"
    }
   ],
   "source": [
    "spark"
   ]
  },
  {
   "cell_type": "code",
   "execution_count": 4,
   "metadata": {
    "colab": {
     "base_uri": "https://localhost:8080/"
    },
    "executionInfo": {
     "elapsed": 1734,
     "status": "ok",
     "timestamp": 1619691919398,
     "user": {
      "displayName": "Jian Tao",
      "photoUrl": "https://lh3.googleusercontent.com/a-/AOh14GhG9Pe7fCrlHe_UyoLCrFepsZ6ZnpuXvpiT4aLR=s64",
      "userId": "01925615186988906375"
     },
     "user_tz": 300
    },
    "id": "Pr2wx4M6Exgi",
    "outputId": "3af8f53b-4163-4e9d-8d50-86ecc848dddc"
   },
   "outputs": [
    {
     "name": "stdout",
     "output_type": "stream",
     "text": [
      "--2021-05-01 02:59:52--  https://bin.equinox.io/c/4VmDzA7iaHb/ngrok-stable-linux-amd64.zip\n",
      "Resolving bin.equinox.io (bin.equinox.io)... 34.196.3.7, 52.206.13.74, 50.19.119.19, ...\n",
      "Connecting to bin.equinox.io (bin.equinox.io)|34.196.3.7|:443... connected.\n",
      "HTTP request sent, awaiting response... 200 OK\n",
      "Length: 13828408 (13M) [application/octet-stream]\n",
      "Saving to: ‘ngrok-stable-linux-amd64.zip’\n",
      "\n",
      "ngrok-stable-linux- 100%[===================>]  13.19M  7.06MB/s    in 1.9s    \n",
      "\n",
      "2021-05-01 02:59:54 (7.06 MB/s) - ‘ngrok-stable-linux-amd64.zip’ saved [13828408/13828408]\n",
      "\n",
      "Archive:  ngrok-stable-linux-amd64.zip\n",
      "  inflating: ngrok                   \n",
      "\n",
      "Click me to launch (give it a minute or two)\n",
      "\n",
      "https://71a794a23d7b.ngrok.io\n"
     ]
    }
   ],
   "source": [
    "# If you are running PySpark locally, you can visit the Spark UI at http://localhost:4040\n",
    "# The following is only necessary on Google Colab.\n",
    "# You can find more about ngrok at https://ngrok.com\n",
    "\n",
    "!wget https://bin.equinox.io/c/4VmDzA7iaHb/ngrok-stable-linux-amd64.zip\n",
    "!unzip -o ngrok-stable-linux-amd64.zip\n",
    "get_ipython().system_raw('./ngrok http 4050 &')\n",
    "!curl -s http://localhost:4040/api/tunnels | python3 -c \"import sys, json; print(\\\"\\nClick me to launch (give it a minute or two)\\n\\\"); print(json.load(sys.stdin)['tunnels'][0]['public_url'])\""
   ]
  },
  {
   "cell_type": "code",
   "execution_count": 10,
   "metadata": {
    "id": "ukN1pihmHdgB"
   },
   "outputs": [
    {
     "name": "stdout",
     "output_type": "stream",
     "text": [
      "3.14158828\n"
     ]
    }
   ],
   "source": [
    "num_samples = 100000000\n",
    "\n",
    "def inside(p):\n",
    "    x, y = random.random(), random.random()\n",
    "    return x*x + y*y < 1\n",
    "\n",
    "sc = spark.sparkContext\n",
    "count = sc.parallelize(range(0, num_samples)).filter(inside).count()\n",
    "\n",
    "pi = 4 * count / num_samples\n",
    "\n",
    "print(pi)\n",
    "sc.stop()\n"
   ]
  }
 ],
 "metadata": {
  "colab": {
   "authorship_tag": "ABX9TyMUTS3VoFQvOCREKfr7nPNt",
   "collapsed_sections": [],
   "name": "PySpark.ipynb",
   "provenance": [
    {
     "file_id": "1Ur9_Q4nnJdIYdfvQrEV3-O8-0f1ifMBQ",
     "timestamp": 1619692740985
    }
   ]
  },
  "kernelspec": {
   "display_name": "Python 3",
   "language": "python",
   "name": "python3"
  },
  "language_info": {
   "codemirror_mode": {
    "name": "ipython",
    "version": 3
   },
   "file_extension": ".py",
   "mimetype": "text/x-python",
   "name": "python",
   "nbconvert_exporter": "python",
   "pygments_lexer": "ipython3",
   "version": "3.8.9"
  }
 },
 "nbformat": 4,
 "nbformat_minor": 4
}
